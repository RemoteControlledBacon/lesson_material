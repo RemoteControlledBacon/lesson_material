{
 "cells": [
  {
   "cell_type": "code",
   "execution_count": 20,
   "metadata": {
    "collapsed": false,
    "scrolled": true
   },
   "outputs": [],
   "source": [
    "import random\n",
    "import math\n",
    "\n",
    "class Deck(object):\n",
    "    \n",
    "    def fresh_deck():\n",
    "        # Initializes a 52 card deck, shuffles it 7 times, then cuts it.\n",
    "        deck = list(range(1,53))                                  \n",
    "        for i in range(7):\n",
    "            random.shuffle(deck)\n",
    "        a = deck[:int(len(deck)/2)]; b = deck[int(len(deck)/2):]\n",
    "        deck = b + a\n",
    "        return deck\n",
    "    \n",
    "    def deal_card(deck):\n",
    "        card = deck[-1]\n",
    "        deck.pop()\n",
    "        return deck,card\n",
    "    \n",
    "    def name_of_card(card):\n",
    "        card_val = math.ceil(card/4)+1\n",
    "        if card_val < 11:\n",
    "            card_name = str(card_val)\n",
    "            points = [card_val]\n",
    "        elif card_val > 10:\n",
    "            if card_val == 11:\n",
    "                card_name = 'Jack'\n",
    "                points = [10]\n",
    "            elif card_val == 12:\n",
    "                card_name = 'Queen'\n",
    "                points = [10]\n",
    "            elif card_val == 13:\n",
    "                card_name = 'King'\n",
    "                points = [10]\n",
    "            elif card_val == 14:\n",
    "                card_name = 'Ace'\n",
    "                points = [11, 1]\n",
    "        if card%4 == 0:\n",
    "            card_suit = ' of spades'\n",
    "        elif card%4 == 3:\n",
    "            card_suit = ' of hearts'\n",
    "        elif card%4 == 2:\n",
    "            card_suit = ' of diamonds'\n",
    "        elif card%4 == 1:\n",
    "            card_suit = ' of clubs'\n",
    "        card_face = str(card_name+card_suit)\n",
    "        return card_face,points"
   ]
  },
  {
   "cell_type": "code",
   "execution_count": 120,
   "metadata": {
    "collapsed": false
   },
   "outputs": [
    {
     "name": "stdout",
     "output_type": "stream",
     "text": [
      "[7, 10, 7, 7, 10, 10, 10, 2, 10, 6, 10, 10, 10, 10, [11, 1], 2, 2, 9, 6, 3, 6, 9, 3, [11, 1], [11, 1], 8, 9, 2, 5, 10, 4, 9, 5, 4, 10, 5, 8, 10, 3, 8, 10, 10, 10, 8, 4, 7, 4, [11, 1], 10, 6, 5, 3]\n"
     ]
    }
   ],
   "source": [
    "#Testing the Big Deck Class\n",
    "\n",
    "deck = Deck.fresh_deck()\n",
    "#Deck.shuffle(deck)\n",
    "value_array = []\n",
    "for i in range(52):\n",
    "    values = Deck.deal_card(deck)\n",
    "    value_array.append(Deck.name_of_card(values[1])[1])\n",
    "    #print(Deck.name_of_card(values[1])[0])\n",
    "    #print(Deck.name_of_card(values[1])[1])\n",
    "print(value_array)"
   ]
  },
  {
   "cell_type": "code",
   "execution_count": 50,
   "metadata": {
    "collapsed": false
   },
   "outputs": [
    {
     "name": "stdout",
     "output_type": "stream",
     "text": [
      "40\n",
      "280\n",
      "340\n"
     ]
    }
   ],
   "source": [
    "# Player hand operations\n",
    "from indexed import IndexedOrderedDict\n",
    "# https://github.com/niklasf/indexed.py\n",
    "\n",
    "class Player(object):\n",
    "    #0) Players's bet (IN) money value(int?) (OUT) bet value total (int) <-- lookup how betting works in Blackjack?\n",
    "    #1) Add or remove money from player's bank (IN) $ amount (int) (OUT) player_bank(int)\n",
    "    #1) update hand (IN) add dealt card to hand (OUT) return hand(IndexedOrderedDict)\n",
    "    #2) hand sum (IN) hand (OUT) hand_sum(int)\n",
    "    #3) ace check and add index (IN) hand (OUT) hand_aces(list)\n",
    "    #4) ace optimize (IN) hand, hand_aces, hand_sum\n",
    "    #5) Blackjack check (IN) hand_sum (OUT) boolean value(bool)\n",
    "    #6) Player's turn (IN) hit/stand(bool) (OUT) hand\n",
    "    \n",
    "    \n",
    "    #anything else? what order should these happen in, i.e. bet before/after turn?\n",
    "    \n",
    "    def __init__(self, money, bet = 0):\n",
    "        # When you walk up to a blackjack table all you have is yourself and some money?\n",
    "        self.money = money\n",
    "        self.bet = bet\n",
    "    \n",
    "    def player_bank(self, cash_flow):\n",
    "        '''\n",
    "        Add or remove money from a player's bank. \n",
    "        '''\n",
    "        self.money += int(cash_flow)\n",
    "        \n",
    "    def player_bet(self, bet_amount):\n",
    "        '''\n",
    "        Allows the player to place a bet amount on the table\n",
    "        '''\n",
    "        self.bet = bet_amount\n",
    "    \n",
    "    \n",
    "\n",
    "\n",
    "\n",
    "Steve = Player(money = 200)\n",
    "\n",
    "Steve.player_bet(40)\n",
    "Steve.player_bank(80)\n",
    "print(Steve.bet)\n",
    "print(Steve.money)\n",
    "Steve.player_bank(1.5*Steve.bet)\n",
    "print(Steve.money)"
   ]
  },
  {
   "cell_type": "code",
   "execution_count": 25,
   "metadata": {
    "collapsed": false,
    "scrolled": true
   },
   "outputs": [
    {
     "name": "stdout",
     "output_type": "stream",
     "text": [
      "[1, 2, 3, 4, 5, 6, 7, 8, 9, 10, 11, 12, 13, 14, 15, 16, 17, 18, 19, 20, 21, 22, 23, 24, 25, 26, 27, 28, 29, 30, 31, 32, 33, 34, 35, 36, 37, 38, 39, 40, 41, 42, 43, 44, 45, 46, 47, 48, 49, 50, 51, 52]\n",
      "[15, 21, 13, 14, 16, 17, 17, 18, 21, 17, 21, 11, 15, 19, 25, 20, 20, 21, 16, 19, 20, 11, 25, 23, 18, 19, 19, 19, 24, 25, 26, 18, 20, 22, 16, 23, 20, 17, 22, 15, 21, 21, 26, 16, 14, 21, 23, 12, 25, 18, 27, 18]\n"
     ]
    }
   ],
   "source": [
    "#Random Distrubution Test\n",
    "value = []\n",
    "distribution = [0]*len(deck)\n",
    "for num in range(1000):\n",
    "    value.append(random.randint(1,len(deck)))\n",
    "#print(value)\n",
    "for index in range(len(distribution)):\n",
    "    distribution[index]=value.count(deck[index])\n",
    "print(deck)\n",
    "print(distribution)"
   ]
  },
  {
   "cell_type": "code",
   "execution_count": 56,
   "metadata": {
    "collapsed": false,
    "scrolled": true
   },
   "outputs": [
    {
     "name": "stdout",
     "output_type": "stream",
     "text": [
      "IndexedOrderedDict([('3 of spades', [3]), ('Ace of spades', [11, 1]), ('6 of hearts', [6])])\n"
     ]
    }
   ],
   "source": [
    "# Method for constructing a dictionary of a players hand, which can be used for gameplay value checking/display\n",
    "deck = Deck.fresh_deck(); #print(deck)\n",
    "#hand = {}\n",
    "hand = IndexedOrderedDict()\n",
    "for i in range(3):\n",
    "    values = Deck.deal_card(deck)\n",
    "    hand[Deck.name_of_card(values[1])[0]] = Deck.name_of_card(values[1])[1]\n",
    "print(hand)\n"
   ]
  },
  {
   "cell_type": "code",
   "execution_count": 62,
   "metadata": {
    "collapsed": false
   },
   "outputs": [
    {
     "ename": "NameError",
     "evalue": "name 'hand' is not defined",
     "output_type": "error",
     "traceback": [
      "\u001b[0;31m---------------------------------------------------------------------------\u001b[0m",
      "\u001b[0;31mNameError\u001b[0m                                 Traceback (most recent call last)",
      "\u001b[0;32m<ipython-input-62-02e288e33903>\u001b[0m in \u001b[0;36m<module>\u001b[0;34m()\u001b[0m\n\u001b[1;32m      1\u001b[0m \u001b[0;31m# Method for searching for an Ace in a players hand of cards\u001b[0m\u001b[0;34m\u001b[0m\u001b[0;34m\u001b[0m\u001b[0m\n\u001b[1;32m      2\u001b[0m \u001b[0mplayer_hand_aces\u001b[0m \u001b[0;34m=\u001b[0m \u001b[0;34m[\u001b[0m\u001b[0;34m]\u001b[0m\u001b[0;34m\u001b[0m\u001b[0m\n\u001b[0;32m----> 3\u001b[0;31m \u001b[0;32mfor\u001b[0m \u001b[0mkey\u001b[0m\u001b[0;34m,\u001b[0m\u001b[0mvalue\u001b[0m \u001b[0;32min\u001b[0m \u001b[0mhand\u001b[0m\u001b[0;34m.\u001b[0m\u001b[0mitems\u001b[0m\u001b[0;34m(\u001b[0m\u001b[0;34m)\u001b[0m\u001b[0;34m:\u001b[0m\u001b[0;34m\u001b[0m\u001b[0m\n\u001b[0m\u001b[1;32m      4\u001b[0m     \u001b[0;31m#print(hand.keys().index(key))\u001b[0m\u001b[0;34m\u001b[0m\u001b[0;34m\u001b[0m\u001b[0m\n\u001b[1;32m      5\u001b[0m     \u001b[0;32mif\u001b[0m \u001b[0mkey\u001b[0m\u001b[0;34m.\u001b[0m\u001b[0mstartswith\u001b[0m\u001b[0;34m(\u001b[0m\u001b[0;34m'Ace'\u001b[0m\u001b[0;34m)\u001b[0m\u001b[0;34m:\u001b[0m\u001b[0;34m\u001b[0m\u001b[0m\n",
      "\u001b[0;31mNameError\u001b[0m: name 'hand' is not defined"
     ]
    }
   ],
   "source": [
    "# Method for searching for an Ace in a players hand of cards\n",
    "player_hand_aces = []\n",
    "for key,value in hand.items():\n",
    "    #print(hand.keys().index(key))\n",
    "    if key.startswith('Ace'):\n",
    "        player_hand_aces.append(hand.keys().index(key))\n",
    "        print(key)\n",
    "print(player_hand_aces)"
   ]
  },
  {
   "cell_type": "code",
   "execution_count": 58,
   "metadata": {
    "collapsed": false,
    "scrolled": true
   },
   "outputs": [
    {
     "name": "stdout",
     "output_type": "stream",
     "text": [
      "20\n"
     ]
    }
   ],
   "source": [
    "# A Method for finding the sum of the players cards based on first pass, with Ace priority high (11)\n",
    "handsum = 0\n",
    "for i in hand.keys():\n",
    "    handsum += hand[i][0]\n",
    "print(handsum)"
   ]
  },
  {
   "cell_type": "code",
   "execution_count": 130,
   "metadata": {
    "collapsed": false
   },
   "outputs": [
    {
     "name": "stdout",
     "output_type": "stream",
     "text": [
      "IndexedOrderedDict([('2 of diamonds', [2]), ('9 of diamonds', [9]), ('Ace of spades', [11, 1])])\n"
     ]
    }
   ],
   "source": [
    "# Synthetic player hand creation for testing hand_over calculator\n",
    "syn_hand = IndexedOrderedDict()\n",
    "syn_cards = [2,30,52]\n",
    "for i in syn_cards:\n",
    "    syn_hand[Deck.name_of_card(i)[0]] = Deck.name_of_card(i)[1]\n",
    "print(syn_hand)\n",
    "\n",
    "#int(syn_hand.values()[2][1])\n",
    "\n",
    "#syn_hand.values()[syn_hand.keys().index('Ace of spades')][1]"
   ]
  },
  {
   "cell_type": "code",
   "execution_count": 134,
   "metadata": {
    "collapsed": false
   },
   "outputs": [
    {
     "name": "stdout",
     "output_type": "stream",
     "text": [
      "22\n",
      "[0, 0, 1]\n",
      "[0, 0, 0]\n"
     ]
    }
   ],
   "source": [
    "syn_handsum = 0\n",
    "syn_hand_point_values = [0]*len(syn_hand)\n",
    "for i in syn_hand.keys():\n",
    "    syn_handsum += syn_hand.values()[syn_hand.keys().index(i)][syn_hand_point_values[syn_hand.keys().index(i)]]\n",
    "print(syn_handsum)\n",
    "\n",
    "# Method for searching for an Ace in a players hand of cards\n",
    "player_syn_hand_aces = []\n",
    "for key,value in syn_hand.items():\n",
    "    \n",
    "    if key.startswith('Ace'):\n",
    "        player_syn_hand_aces.append(1)\n",
    "        #player_syn_hand_aces.append(syn_hand.keys().index(key))\n",
    "    else: \n",
    "        player_syn_hand_aces.append(0)\n",
    "print(player_syn_hand_aces)\n",
    "print(syn_hand_point_values)"
   ]
  },
  {
   "cell_type": "code",
   "execution_count": 135,
   "metadata": {
    "collapsed": false
   },
   "outputs": [
    {
     "name": "stdout",
     "output_type": "stream",
     "text": [
      "22\n"
     ]
    },
    {
     "ename": "KeyboardInterrupt",
     "evalue": "",
     "output_type": "error",
     "traceback": [
      "\u001b[0;31m---------------------------------------------------------------------------\u001b[0m",
      "\u001b[0;31mKeyboardInterrupt\u001b[0m                         Traceback (most recent call last)",
      "\u001b[0;32m<ipython-input-135-a07b957a4901>\u001b[0m in \u001b[0;36m<module>\u001b[0;34m()\u001b[0m\n\u001b[1;32m      7\u001b[0m         \u001b[0;32mfor\u001b[0m \u001b[0mi\u001b[0m \u001b[0;32min\u001b[0m \u001b[0mrange\u001b[0m\u001b[0;34m(\u001b[0m\u001b[0mlen\u001b[0m\u001b[0;34m(\u001b[0m\u001b[0msyn_hand_point_values\u001b[0m\u001b[0;34m)\u001b[0m\u001b[0;34m)\u001b[0m\u001b[0;34m:\u001b[0m\u001b[0;34m\u001b[0m\u001b[0m\n\u001b[1;32m      8\u001b[0m             \u001b[0;32mif\u001b[0m \u001b[0mplayer_syn_hand_aces\u001b[0m\u001b[0;34m[\u001b[0m\u001b[0mi\u001b[0m\u001b[0;34m]\u001b[0m \u001b[0;34m==\u001b[0m \u001b[0;36m1\u001b[0m\u001b[0;34m:\u001b[0m\u001b[0;34m\u001b[0m\u001b[0m\n\u001b[0;32m----> 9\u001b[0;31m                 \u001b[0msyn_hand_point_values\u001b[0m\u001b[0;34m[\u001b[0m\u001b[0mi\u001b[0m\u001b[0;34m]\u001b[0m \u001b[0;34m=\u001b[0m \u001b[0mplayer_syn_hand_aces\u001b[0m\u001b[0;34m[\u001b[0m\u001b[0mi\u001b[0m\u001b[0;34m]\u001b[0m\u001b[0;34m\u001b[0m\u001b[0m\n\u001b[0m\u001b[1;32m     10\u001b[0m                 \u001b[0;32mbreak\u001b[0m\u001b[0;34m\u001b[0m\u001b[0m\n\u001b[1;32m     11\u001b[0m         \u001b[0;32mfor\u001b[0m \u001b[0mi\u001b[0m \u001b[0;32min\u001b[0m \u001b[0msyn_hand\u001b[0m\u001b[0;34m.\u001b[0m\u001b[0mkeys\u001b[0m\u001b[0;34m(\u001b[0m\u001b[0;34m)\u001b[0m\u001b[0;34m:\u001b[0m\u001b[0;34m\u001b[0m\u001b[0m\n",
      "\u001b[0;31mKeyboardInterrupt\u001b[0m: "
     ]
    }
   ],
   "source": [
    "# Method for checking for Ace in hand, then if over 21, counting is as a 1. Loop through all aces in hand repeating\n",
    "# this until the total of the hand is under 21\n",
    "#### DO NOT RUN IN THIS STATE!!! ####\n",
    "move_on = False\n",
    "if syn_handsum > 21 and sum(player_syn_hand_aces) > 0:\n",
    "    print(syn_handsum)\n",
    "    while syn_handsum > 21:\n",
    "        for i in range(len(syn_hand_point_values)):\n",
    "            if player_syn_hand_aces[i] == 1:\n",
    "                syn_hand_point_values[i] = player_syn_hand_aces[i]\n",
    "                break\n",
    "        for i in syn_hand.keys():\n",
    "            syn_handsum += syn_hand.values()[syn_hand.keys().index(i)][syn_hand_point_values[syn_hand.keys().index(i)]]\n",
    "\n",
    "print(syn_handsum)\n"
   ]
  },
  {
   "cell_type": "code",
   "execution_count": 117,
   "metadata": {
    "collapsed": false
   },
   "outputs": [
    {
     "name": "stdout",
     "output_type": "stream",
     "text": [
      "0\n",
      "1\n",
      "2\n"
     ]
    }
   ],
   "source": [
    "for i in range(len(syn_hand_point_values)):\n",
    "    print(i)\n"
   ]
  },
  {
   "cell_type": "code",
   "execution_count": null,
   "metadata": {
    "collapsed": true
   },
   "outputs": [],
   "source": []
  }
 ],
 "metadata": {
  "anaconda-cloud": {},
  "kernelspec": {
   "display_name": "Python [default]",
   "language": "python",
   "name": "python3"
  },
  "language_info": {
   "codemirror_mode": {
    "name": "ipython",
    "version": 3
   },
   "file_extension": ".py",
   "mimetype": "text/x-python",
   "name": "python",
   "nbconvert_exporter": "python",
   "pygments_lexer": "ipython3",
   "version": "3.5.2"
  }
 },
 "nbformat": 4,
 "nbformat_minor": 1
}
