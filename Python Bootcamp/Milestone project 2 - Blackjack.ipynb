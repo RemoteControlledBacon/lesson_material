{
 "cells": [
  {
   "cell_type": "code",
   "execution_count": 1,
   "metadata": {
    "collapsed": false,
    "scrolled": true
   },
   "outputs": [],
   "source": [
    "import random\n",
    "import math\n",
    "\n",
    "class Deck(object):\n",
    "    \n",
    "    def fresh_deck():\n",
    "        # Initializes a 52 card deck, shuffles it 7 times, then cuts it.\n",
    "        deck = list(range(1,53))                                  \n",
    "        for i in range(7):\n",
    "            random.shuffle(deck)\n",
    "        a = deck[:int(len(deck)/2)]; b = deck[int(len(deck)/2):]\n",
    "        deck = b + a\n",
    "        return deck\n",
    "    \n",
    "    def deal_card(deck):\n",
    "        card = deck[-1]\n",
    "        deck.pop()\n",
    "        return deck,card\n",
    "    \n",
    "    def name_of_card(card):\n",
    "        card_val = math.ceil(card/4)+1\n",
    "        if card_val < 11:\n",
    "            card_name = str(card_val)\n",
    "            points = [card_val]\n",
    "        elif card_val > 10:\n",
    "            if card_val == 11:\n",
    "                card_name = 'Jack'\n",
    "                points = [10]\n",
    "            elif card_val == 12:\n",
    "                card_name = 'Queen'\n",
    "                points = [10]\n",
    "            elif card_val == 13:\n",
    "                card_name = 'King'\n",
    "                points = [10]\n",
    "            elif card_val == 14:\n",
    "                card_name = 'Ace'\n",
    "                points = [11, 1]\n",
    "        if card%4 == 0:\n",
    "            card_suit = ' of spades'\n",
    "        elif card%4 == 3:\n",
    "            card_suit = ' of hearts'\n",
    "        elif card%4 == 2:\n",
    "            card_suit = ' of diamonds'\n",
    "        elif card%4 == 1:\n",
    "            card_suit = ' of clubs'\n",
    "        card_face = str(card_name+card_suit)\n",
    "        return card_face,points"
   ]
  },
  {
   "cell_type": "code",
   "execution_count": 20,
   "metadata": {
    "collapsed": true
   },
   "outputs": [
    {
     "name": "stdout",
     "output_type": "stream",
     "text": [
      "[[11, 1], [3], [10], [10], [3], [6], [5], [9], [4], [2], [8], [10], [10], [9], [2], [11, 1], [7], [4], [8], [6], [3], [8], [4], [10], [5], [10], [7], [10], [10], [10], [10], [5], [10], [6], [8], [2], [7], [10], [6], [10], [10], [10], [10], [9], [3], [4], [11, 1], [11, 1], [9], [7], [5], [2]]\n"
     ]
    }
   ],
   "source": [
    "#Testing the Big Deck Class\n",
    "\n",
    "deck = Deck.fresh_deck()\n",
    "#Deck.shuffle(deck)\n",
    "value_array = []\n",
    "for i in range(52):\n",
    "    values = Deck.deal_card(deck)\n",
    "    value_array.append(Deck.name_of_card(values[1])[1])\n",
    "    #print(Deck.name_of_card(values[1])[0])\n",
    "    #print(Deck.name_of_card(values[1])[1])\n",
    "print(value_array)"
   ]
  },
  {
   "cell_type": "code",
   "execution_count": 2,
   "metadata": {
    "collapsed": false
   },
   "outputs": [
    {
     "name": "stdout",
     "output_type": "stream",
     "text": [
      "40\n",
      "200\n",
      "260\n"
     ]
    }
   ],
   "source": [
    "# Player hand operations\n",
    "\n",
    "\n",
    "class Player(object):\n",
    "    #0) Players's bet (IN) money value(int?) (OUT) bet value total (int) <-- lookup how betting works in Blackjack?\n",
    "    #1) Add or remove money from player's bank (IN) $ amount (int) (OUT) player_bank(int)\n",
    "    #1) update hand (IN) add dealt card to hand (OUT) return hand(IndexedOrderedDict)\n",
    "    #2) hand sum (IN) hand (OUT) hand_sum(int)\n",
    "    #3) ace check and add index (IN) hand (OUT) hand_aces(list)\n",
    "    #4) ace optimize (IN) hand, hand_aces, hand_sum\n",
    "    #5) Blackjack check (IN) hand_sum (OUT) boolean value(bool)\n",
    "    #6) Player's turn (IN) hit/stand(bool) (OUT) hand\n",
    "    \n",
    "    hand = IndexedOrderedDict()\n",
    "\n",
    "    \n",
    "    #anything else? what order should these happen in, i.e. bet before/after turn?\n",
    "    \n",
    "    def __init__(self, money = 0, bet = 0):\n",
    "        # When you walk up to a blackjack table all you have is yourself and some money?\n",
    "        self.money = money\n",
    "        self.bet = bet\n",
    "        \n",
    "    def hand_score(hand_values):\n",
    "    '''\n",
    "    Checks a hand of cards for all permutations of card values. Neglects those over 21 and duplicates.\n",
    "    Returns valid permutations from above criteria, returns if blackjack (values = 21) is true or not.\n",
    "    Retures itertools\n",
    "    '''\n",
    "    values = list(itertools.product(*hand_values))\n",
    "    score = []\n",
    "\n",
    "    for i in range(len(values)):\n",
    "        score.append(sum(values[i]))\n",
    "        \n",
    "    reduced_scores = [x for x in list(set(score)) if x < 22]\n",
    "    reduced_scores.sort()\n",
    "    \n",
    "    if 21 in reduced_scores:\n",
    "        blackjack = True\n",
    "    else:\n",
    "        blackjack = False\n",
    "    \n",
    "    return reduced_scores,blackjack\n",
    "        \n",
    "    #def hand(card):\n",
    "        \n",
    "    \n",
    "\n",
    "Steve = Player()\n",
    "\n",
    "#Steve.player_bet(40)\n",
    "#Steve.player_bank(80)\n",
    "Steve.money = 200\n",
    "Steve.bet = 40\n",
    "print(Steve.bet)\n",
    "print(Steve.money)\n",
    "#Steve.player_bank(1.5*Steve.bet)\n",
    "Steve.money += 1.5 * Steve.bet\n",
    "print(int(Steve.money))"
   ]
  },
  {
   "cell_type": "code",
   "execution_count": 21,
   "metadata": {
    "collapsed": true
   },
   "outputs": [
    {
     "ename": "ValueError",
     "evalue": "empty range for randrange() (1,1, 0)",
     "output_type": "error",
     "traceback": [
      "\u001b[0;31m---------------------------------------------------------------------------\u001b[0m",
      "\u001b[0;31mValueError\u001b[0m                                Traceback (most recent call last)",
      "\u001b[0;32m<ipython-input-21-b661410ee052>\u001b[0m in \u001b[0;36m<module>\u001b[0;34m()\u001b[0m\n\u001b[1;32m      3\u001b[0m \u001b[0mdistribution\u001b[0m \u001b[0;34m=\u001b[0m \u001b[0;34m[\u001b[0m\u001b[0;36m0\u001b[0m\u001b[0;34m]\u001b[0m\u001b[0;34m*\u001b[0m\u001b[0mlen\u001b[0m\u001b[0;34m(\u001b[0m\u001b[0mdeck\u001b[0m\u001b[0;34m)\u001b[0m\u001b[0;34m\u001b[0m\u001b[0m\n\u001b[1;32m      4\u001b[0m \u001b[0;32mfor\u001b[0m \u001b[0mnum\u001b[0m \u001b[0;32min\u001b[0m \u001b[0mrange\u001b[0m\u001b[0;34m(\u001b[0m\u001b[0;36m1000\u001b[0m\u001b[0;34m)\u001b[0m\u001b[0;34m:\u001b[0m\u001b[0;34m\u001b[0m\u001b[0m\n\u001b[0;32m----> 5\u001b[0;31m     \u001b[0mvalue\u001b[0m\u001b[0;34m.\u001b[0m\u001b[0mappend\u001b[0m\u001b[0;34m(\u001b[0m\u001b[0mrandom\u001b[0m\u001b[0;34m.\u001b[0m\u001b[0mrandint\u001b[0m\u001b[0;34m(\u001b[0m\u001b[0;36m1\u001b[0m\u001b[0;34m,\u001b[0m\u001b[0mlen\u001b[0m\u001b[0;34m(\u001b[0m\u001b[0mdeck\u001b[0m\u001b[0;34m)\u001b[0m\u001b[0;34m)\u001b[0m\u001b[0;34m)\u001b[0m\u001b[0;34m\u001b[0m\u001b[0m\n\u001b[0m\u001b[1;32m      6\u001b[0m \u001b[0;31m#print(value)\u001b[0m\u001b[0;34m\u001b[0m\u001b[0;34m\u001b[0m\u001b[0m\n\u001b[1;32m      7\u001b[0m \u001b[0;32mfor\u001b[0m \u001b[0mindex\u001b[0m \u001b[0;32min\u001b[0m \u001b[0mrange\u001b[0m\u001b[0;34m(\u001b[0m\u001b[0mlen\u001b[0m\u001b[0;34m(\u001b[0m\u001b[0mdistribution\u001b[0m\u001b[0;34m)\u001b[0m\u001b[0;34m)\u001b[0m\u001b[0;34m:\u001b[0m\u001b[0;34m\u001b[0m\u001b[0m\n",
      "\u001b[0;32m/home/esteban/anaconda3/lib/python3.5/random.py\u001b[0m in \u001b[0;36mrandint\u001b[0;34m(self, a, b)\u001b[0m\n\u001b[1;32m    216\u001b[0m         \"\"\"\n\u001b[1;32m    217\u001b[0m \u001b[0;34m\u001b[0m\u001b[0m\n\u001b[0;32m--> 218\u001b[0;31m         \u001b[0;32mreturn\u001b[0m \u001b[0mself\u001b[0m\u001b[0;34m.\u001b[0m\u001b[0mrandrange\u001b[0m\u001b[0;34m(\u001b[0m\u001b[0ma\u001b[0m\u001b[0;34m,\u001b[0m \u001b[0mb\u001b[0m\u001b[0;34m+\u001b[0m\u001b[0;36m1\u001b[0m\u001b[0;34m)\u001b[0m\u001b[0;34m\u001b[0m\u001b[0m\n\u001b[0m\u001b[1;32m    219\u001b[0m \u001b[0;34m\u001b[0m\u001b[0m\n\u001b[1;32m    220\u001b[0m     def _randbelow(self, n, int=int, maxsize=1<<BPF, type=type,\n",
      "\u001b[0;32m/home/esteban/anaconda3/lib/python3.5/random.py\u001b[0m in \u001b[0;36mrandrange\u001b[0;34m(self, start, stop, step, _int)\u001b[0m\n\u001b[1;32m    194\u001b[0m             \u001b[0;32mreturn\u001b[0m \u001b[0mistart\u001b[0m \u001b[0;34m+\u001b[0m \u001b[0mself\u001b[0m\u001b[0;34m.\u001b[0m\u001b[0m_randbelow\u001b[0m\u001b[0;34m(\u001b[0m\u001b[0mwidth\u001b[0m\u001b[0;34m)\u001b[0m\u001b[0;34m\u001b[0m\u001b[0m\n\u001b[1;32m    195\u001b[0m         \u001b[0;32mif\u001b[0m \u001b[0mstep\u001b[0m \u001b[0;34m==\u001b[0m \u001b[0;36m1\u001b[0m\u001b[0;34m:\u001b[0m\u001b[0;34m\u001b[0m\u001b[0m\n\u001b[0;32m--> 196\u001b[0;31m             \u001b[0;32mraise\u001b[0m \u001b[0mValueError\u001b[0m\u001b[0;34m(\u001b[0m\u001b[0;34m\"empty range for randrange() (%d,%d, %d)\"\u001b[0m \u001b[0;34m%\u001b[0m \u001b[0;34m(\u001b[0m\u001b[0mistart\u001b[0m\u001b[0;34m,\u001b[0m \u001b[0mistop\u001b[0m\u001b[0;34m,\u001b[0m \u001b[0mwidth\u001b[0m\u001b[0;34m)\u001b[0m\u001b[0;34m)\u001b[0m\u001b[0;34m\u001b[0m\u001b[0m\n\u001b[0m\u001b[1;32m    197\u001b[0m \u001b[0;34m\u001b[0m\u001b[0m\n\u001b[1;32m    198\u001b[0m         \u001b[0;31m# Non-unit step argument supplied.\u001b[0m\u001b[0;34m\u001b[0m\u001b[0;34m\u001b[0m\u001b[0m\n",
      "\u001b[0;31mValueError\u001b[0m: empty range for randrange() (1,1, 0)"
     ]
    }
   ],
   "source": [
    "#Random Distrubution Test\n",
    "value = []\n",
    "distribution = [0]*len(deck)\n",
    "for num in range(1000):\n",
    "    value.append(random.randint(1,len(deck)))\n",
    "#print(value)\n",
    "for index in range(len(distribution)):\n",
    "    distribution[index]=value.count(deck[index])\n",
    "print(deck)\n",
    "print(distribution)"
   ]
  },
  {
   "cell_type": "code",
   "execution_count": 22,
   "metadata": {
    "collapsed": false,
    "scrolled": true
   },
   "outputs": [
    {
     "name": "stdout",
     "output_type": "stream",
     "text": [
      "IndexedOrderedDict([('Ace of clubs', [11, 1]), ('6 of clubs', [6]), ('9 of clubs', [9])])\n"
     ]
    }
   ],
   "source": [
    "# Method for constructing a dictionary of a players hand, which can be used for gameplay value checking/display\n",
    "deck = Deck.fresh_deck(); #print(deck)\n",
    "#hand = {}\n",
    "hand = IndexedOrderedDict()\n",
    "for i in range(3):\n",
    "    values = Deck.deal_card(deck)\n",
    "    hand[Deck.name_of_card(values[1])[0]] = Deck.name_of_card(values[1])[1]\n",
    "print(hand)\n"
   ]
  },
  {
   "cell_type": "code",
   "execution_count": 23,
   "metadata": {
    "collapsed": false
   },
   "outputs": [
    {
     "name": "stdout",
     "output_type": "stream",
     "text": [
      "Ace of clubs\n",
      "[0]\n"
     ]
    }
   ],
   "source": [
    "# Method for searching for an Ace in a players hand of cards\n",
    "player_hand_aces = []\n",
    "for key,value in hand.items():\n",
    "    #print(hand.keys().index(key))\n",
    "    if key.startswith('Ace'):\n",
    "        player_hand_aces.append(hand.keys().index(key))\n",
    "        print(key)\n",
    "print(player_hand_aces)"
   ]
  },
  {
   "cell_type": "code",
   "execution_count": 24,
   "metadata": {
    "collapsed": false
   },
   "outputs": [
    {
     "name": "stdout",
     "output_type": "stream",
     "text": [
      "['2 of diamonds', '9 of diamonds', 'Ace of spades', '8 of clubs', 'Ace of clubs']\n",
      "[[2], [9], [11, 1], [8], [11, 1]]\n",
      "IndexedOrderedDict([('2 of diamonds', [2]), ('9 of diamonds', [9]), ('Ace of spades', [11, 1]), ('8 of clubs', [8]), ('Ace of clubs', [11, 1])])\n"
     ]
    }
   ],
   "source": [
    "# Synthetic player hand creation for testing hand_over calculator\n",
    "syn_hand = IndexedOrderedDict()\n",
    "syn_cards = [2,30,52,25,49]\n",
    "syn_hand_face = []\n",
    "syn_hand_value = []\n",
    "for i in syn_cards:\n",
    "    syn_hand_face.append(Deck.name_of_card(i)[0])\n",
    "    syn_hand_value.append(Deck.name_of_card(i)[1])\n",
    "    syn_hand[Deck.name_of_card(i)[0]] = Deck.name_of_card(i)[1]\n",
    "print(syn_hand_face)\n",
    "print(syn_hand_value)\n",
    "print(syn_hand)\n",
    "\n",
    "#int(syn_hand.values()[2][1])\n",
    "\n",
    "#syn_hand.values()[syn_hand.keys().index('Ace of spades')][1]"
   ]
  },
  {
   "cell_type": "code",
   "execution_count": 32,
   "metadata": {
    "collapsed": true
   },
   "outputs": [],
   "source": [
    "def hand_score(hand_values):\n",
    "    '''\n",
    "    Checks a hand of cards for all permutations of card values. Neglects those over 21 and duplicates.\n",
    "    Returns valid permutations from above criteria, returns if blackjack (values = 21) is true or not.\n",
    "    Retures itertools\n",
    "    '''\n",
    "    values = list(itertools.product(*hand_values))\n",
    "    score = []\n",
    "\n",
    "    for i in range(len(values)):\n",
    "        score.append(sum(values[i]))\n",
    "        \n",
    "    reduced_scores = [x for x in list(set(score)) if x < 22]\n",
    "    reduced_scores.sort()\n",
    "    \n",
    "    if 21 in reduced_scores:\n",
    "        blackjack = True\n",
    "    else:\n",
    "        blackjack = False\n",
    "    \n",
    "    return reduced_scores,blackjack"
   ]
  },
  {
   "cell_type": "code",
   "execution_count": 33,
   "metadata": {
    "collapsed": false
   },
   "outputs": [
    {
     "data": {
      "text/plain": [
       "([21], True)"
      ]
     },
     "execution_count": 33,
     "metadata": {},
     "output_type": "execute_result"
    }
   ],
   "source": [
    "hand_score(syn_hand_value)"
   ]
  },
  {
   "cell_type": "code",
   "execution_count": null,
   "metadata": {
    "collapsed": true
   },
   "outputs": [],
   "source": []
  }
 ],
 "metadata": {
  "anaconda-cloud": {},
  "kernelspec": {
   "display_name": "Python [default]",
   "language": "python",
   "name": "python3"
  },
  "language_info": {
   "codemirror_mode": {
    "name": "ipython",
    "version": 3
   },
   "file_extension": ".py",
   "mimetype": "text/x-python",
   "name": "python",
   "nbconvert_exporter": "python",
   "pygments_lexer": "ipython3",
   "version": "3.5.2"
  }
 },
 "nbformat": 4,
 "nbformat_minor": 1
}
