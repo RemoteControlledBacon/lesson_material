{
 "cells": [
  {
   "cell_type": "code",
   "execution_count": 3,
   "metadata": {
    "collapsed": false
   },
   "outputs": [
    {
     "name": "stdout",
     "output_type": "stream",
     "text": [
      "Welcome to the game of tic-tac-toe!\n",
      "Enter your move, player A: 11\n",
      "Please Enter a value between 1 and 9\n",
      "Enter your move, player A: qwww\n"
     ]
    },
    {
     "ename": "ValueError",
     "evalue": "invalid literal for int() with base 10: 'qwww'",
     "output_type": "error",
     "traceback": [
      "\u001b[0;31m---------------------------------------------------------------------------\u001b[0m",
      "\u001b[0;31mValueError\u001b[0m                                Traceback (most recent call last)",
      "\u001b[0;32m<ipython-input-3-3a82b1b61cd4>\u001b[0m in \u001b[0;36m<module>\u001b[0;34m()\u001b[0m\n\u001b[1;32m     72\u001b[0m                 \u001b[0mplay_tictactoe\u001b[0m\u001b[0;34m(\u001b[0m\u001b[0;34m)\u001b[0m\u001b[0;34m\u001b[0m\u001b[0m\n\u001b[1;32m     73\u001b[0m \u001b[0;34m\u001b[0m\u001b[0m\n\u001b[0;32m---> 74\u001b[0;31m \u001b[0mplay_tictactoe\u001b[0m\u001b[0;34m(\u001b[0m\u001b[0;34m)\u001b[0m\u001b[0;34m\u001b[0m\u001b[0m\n\u001b[0m",
      "\u001b[0;32m<ipython-input-3-3a82b1b61cd4>\u001b[0m in \u001b[0;36mplay_tictactoe\u001b[0;34m()\u001b[0m\n\u001b[1;32m     61\u001b[0m     \u001b[0mplayer\u001b[0m \u001b[0;34m=\u001b[0m \u001b[0;36m1\u001b[0m\u001b[0;34m\u001b[0m\u001b[0m\n\u001b[1;32m     62\u001b[0m     \u001b[0;32mwhile\u001b[0m \u001b[0;32mnot\u001b[0m \u001b[0mcheck_for_winner\u001b[0m\u001b[0;34m(\u001b[0m\u001b[0mplayer\u001b[0m\u001b[0;34m)\u001b[0m\u001b[0;34m:\u001b[0m\u001b[0;34m\u001b[0m\u001b[0m\n\u001b[0;32m---> 63\u001b[0;31m         \u001b[0mplayer_move\u001b[0m\u001b[0;34m(\u001b[0m\u001b[0mplayer\u001b[0m\u001b[0;34m)\u001b[0m\u001b[0;34m\u001b[0m\u001b[0m\n\u001b[0m\u001b[1;32m     64\u001b[0m         \u001b[0mcheck_for_winner\u001b[0m\u001b[0;34m(\u001b[0m\u001b[0mplayer\u001b[0m\u001b[0;34m)\u001b[0m\u001b[0;34m\u001b[0m\u001b[0m\n\u001b[1;32m     65\u001b[0m         \u001b[0;32mif\u001b[0m \u001b[0;32mnot\u001b[0m \u001b[0mcheck_for_winner\u001b[0m\u001b[0;34m(\u001b[0m\u001b[0mplayer\u001b[0m\u001b[0;34m)\u001b[0m\u001b[0;34m:\u001b[0m\u001b[0;34m\u001b[0m\u001b[0m\n",
      "\u001b[0;32m<ipython-input-3-3a82b1b61cd4>\u001b[0m in \u001b[0;36mplayer_move\u001b[0;34m(player)\u001b[0m\n\u001b[1;32m      8\u001b[0m     \u001b[0mmove_done\u001b[0m \u001b[0;34m=\u001b[0m \u001b[0;32mFalse\u001b[0m\u001b[0;34m\u001b[0m\u001b[0m\n\u001b[1;32m      9\u001b[0m     \u001b[0;32mwhile\u001b[0m \u001b[0mmove_done\u001b[0m \u001b[0;34m==\u001b[0m \u001b[0;32mFalse\u001b[0m\u001b[0;34m:\u001b[0m\u001b[0;34m\u001b[0m\u001b[0m\n\u001b[0;32m---> 10\u001b[0;31m         \u001b[0minput_value\u001b[0m \u001b[0;34m=\u001b[0m \u001b[0mint\u001b[0m\u001b[0;34m(\u001b[0m\u001b[0minput\u001b[0m\u001b[0;34m(\u001b[0m\u001b[0;34m\"Enter your move, player \"\u001b[0m\u001b[0;34m+\u001b[0m\u001b[0mplayer_name\u001b[0m\u001b[0;34m+\u001b[0m\u001b[0;34m\": \"\u001b[0m\u001b[0;34m)\u001b[0m\u001b[0;34m)\u001b[0m\u001b[0;34m\u001b[0m\u001b[0m\n\u001b[0m\u001b[1;32m     11\u001b[0m         \u001b[0;32mif\u001b[0m \u001b[0minput_value\u001b[0m \u001b[0;32mnot\u001b[0m \u001b[0;32min\u001b[0m \u001b[0mrange\u001b[0m\u001b[0;34m(\u001b[0m\u001b[0;36m1\u001b[0m\u001b[0;34m,\u001b[0m\u001b[0;36m10\u001b[0m\u001b[0;34m)\u001b[0m\u001b[0;34m:\u001b[0m\u001b[0;34m\u001b[0m\u001b[0m\n\u001b[1;32m     12\u001b[0m             \u001b[0mprint\u001b[0m\u001b[0;34m(\u001b[0m\u001b[0;34m\"Please Enter a value between 1 and 9\"\u001b[0m\u001b[0;34m)\u001b[0m\u001b[0;34m\u001b[0m\u001b[0m\n",
      "\u001b[0;31mValueError\u001b[0m: invalid literal for int() with base 10: 'qwww'"
     ]
    }
   ],
   "source": [
    "def player_move(player):\n",
    "    if player == 1:\n",
    "        player_val = 'X'\n",
    "        player_name = 'A'\n",
    "    elif player == 0:\n",
    "        player_val = 'O'\n",
    "        player_name = 'B'\n",
    "    move_done = False\n",
    "    while move_done == False:\n",
    "        input_value = int(input(\"Enter your move, player \"+player_name+\": \"))\n",
    "        if input_value not in range(1,10):\n",
    "            print(\"Please Enter a value between 1 and 9\")\n",
    "        else:    \n",
    "            if t[input_value-1] == ' ':\n",
    "                t[input_value-1] = player_val\n",
    "                print_playing_area()\n",
    "                move_done = True\n",
    "            else: print(\"Please enter a valid move!\")\n",
    "\n",
    "def print_playing_area():\n",
    "    print(\"  reference board         playing area   \")\n",
    "    print(\"*******************   *******************\")\n",
    "    print(\"*  1  *  2  *  3  *   *  {0}  *  {1}  *  {2}  *\".format(t[0],t[1],t[2]))\n",
    "    print(\"*******************   *******************\")\n",
    "    print(\"*  4  *  5  *  6  *   *  {0}  *  {1}  *  {2}  *\".format(t[3],t[4],t[5]))\n",
    "    print(\"*******************   *******************\")\n",
    "    print(\"*  7  *  8  *  9  *   *  {0}  *  {1}  *  {2}  *\".format(t[6],t[7],t[8]))\n",
    "    print(\"*******************   *******************\")\n",
    "    \n",
    "def check_for_winner(player):\n",
    "    winner = [False,'']; Tie = False\n",
    "    if t[0]==t[1]==t[2] and t[1] != ' ': winner[0]=True; winner[1] = t[1]\n",
    "    if t[3]==t[4]==t[5] and t[3] != ' ': winner[0]=True; winner[1] = t[4]\n",
    "    if t[6]==t[7]==t[8] and t[7] != ' ': winner[0]=True; winner[1] = t[7]\n",
    "    if t[0]==t[3]==t[6] and t[3] != ' ': winner[0]=True; winner[1] = t[3]\n",
    "    if t[1]==t[4]==t[7] and t[4] != ' ': winner[0]=True; winner[1] = t[4]\n",
    "    if t[2]==t[5]==t[8] and t[5] != ' ': winner[0]=True; winner[1] = t[5]\n",
    "    if t[0]==t[4]==t[8] and t[4] != ' ': winner[0]=True; winner[1] = t[4]\n",
    "    if t[2]==t[4]==t[6] and t[4] != ' ': winner[0]=True; winner[1] = t[4]\n",
    "    if sum(1 for x in t if x!=' ') == 9 and winner[0] != True: Tie = True\n",
    "    if Tie == True:\n",
    "        output = ('Tie! Nobody has won!')\n",
    "        return (True,output)    \n",
    "    if winner[0] == True:\n",
    "        if player == 1:\n",
    "            player_name = 'A'\n",
    "        elif player == 0:\n",
    "            player_name = 'B'\n",
    "        output = ('player ' + player_name + ' has won!')\n",
    "        return (True,output)\n",
    "    \n",
    "    \n",
    "t = [' ',' ',' ',' ',' ',' ',' ',' ',' ']\n",
    "\n",
    "def play_again():\n",
    "    play_another_round = int(input(\"Do you want to play again? 1 for yes, or 0 for no\"))\n",
    "    return play_another_round\n",
    "    \n",
    "def play_tictactoe():\n",
    "    print('Welcome to the game of tic-tac-toe!')\n",
    "    player = 1\n",
    "    while not check_for_winner(player):\n",
    "        player_move(player)\n",
    "        check_for_winner(player)\n",
    "        if not check_for_winner(player):\n",
    "            player = not player\n",
    "        if check_for_winner(player):\n",
    "            (a,b) = check_for_winner(player)\n",
    "            print(str(b))\n",
    "            play_again()\n",
    "            if play_again == 1:\n",
    "                play_tictactoe()\n",
    "                  \n",
    "play_tictactoe()"
   ]
  },
  {
   "cell_type": "code",
   "execution_count": null,
   "metadata": {
    "collapsed": true
   },
   "outputs": [],
   "source": []
  }
 ],
 "metadata": {
  "anaconda-cloud": {},
  "kernelspec": {
   "display_name": "Python [default]",
   "language": "python",
   "name": "python3"
  },
  "language_info": {
   "codemirror_mode": {
    "name": "ipython",
    "version": 3
   },
   "file_extension": ".py",
   "mimetype": "text/x-python",
   "name": "python",
   "nbconvert_exporter": "python",
   "pygments_lexer": "ipython3",
   "version": "3.5.2"
  }
 },
 "nbformat": 4,
 "nbformat_minor": 1
}
