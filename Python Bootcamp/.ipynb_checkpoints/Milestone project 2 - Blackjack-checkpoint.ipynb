{
 "cells": [
  {
   "cell_type": "code",
   "execution_count": 146,
   "metadata": {
    "collapsed": false,
    "scrolled": true
   },
   "outputs": [],
   "source": [
    "import random\n",
    "import math\n",
    "\n",
    "class Deck(object):\n",
    "    \n",
    "    def fresh_deck():\n",
    "        deck = list(range(1,53))\n",
    "        for i in range(7):\n",
    "            random.shuffle(deck)\n",
    "        return deck\n",
    "    \n",
    "    def deal_card(deck):\n",
    "        card = deck[-1]\n",
    "        deck.pop()\n",
    "        return deck,card\n",
    "    \n",
    "    def name_of_card(card):\n",
    "        card_val = math.ceil(card/4)+1\n",
    "        if card_val < 11:\n",
    "            card_name = str(card_val)\n",
    "            points = [card_val]\n",
    "        elif card_val > 10:\n",
    "            if card_val == 11:\n",
    "                card_name = 'Jack'\n",
    "                points = [10]\n",
    "            elif card_val == 12:\n",
    "                card_name = 'Queen'\n",
    "                points = [10]\n",
    "            elif card_val == 13:\n",
    "                card_name = 'King'\n",
    "                points = [10]\n",
    "            elif card_val == 14:\n",
    "                card_name = 'Ace'\n",
    "                points = [11, 1]\n",
    "        if card%4 == 0:\n",
    "            card_suit = ' of spades'\n",
    "        elif card%4 == 3:\n",
    "            card_suit = ' of hearts'\n",
    "        elif card%4 == 2:\n",
    "            card_suit = ' of diamonds'\n",
    "        elif card%4 == 1:\n",
    "            card_suit = ' of clubs'\n",
    "        card_face = str(card_name+card_suit)\n",
    "        return card_face,points"
   ]
  },
  {
   "cell_type": "code",
   "execution_count": 120,
   "metadata": {
    "collapsed": false
   },
   "outputs": [
    {
     "name": "stdout",
     "output_type": "stream",
     "text": [
      "[7, 10, 7, 7, 10, 10, 10, 2, 10, 6, 10, 10, 10, 10, [11, 1], 2, 2, 9, 6, 3, 6, 9, 3, [11, 1], [11, 1], 8, 9, 2, 5, 10, 4, 9, 5, 4, 10, 5, 8, 10, 3, 8, 10, 10, 10, 8, 4, 7, 4, [11, 1], 10, 6, 5, 3]\n"
     ]
    }
   ],
   "source": [
    "#Testing the Big Deck Class\n",
    "\n",
    "deck = Deck.fresh_deck()\n",
    "#Deck.shuffle(deck)\n",
    "value_array = []\n",
    "for i in range(52):\n",
    "    values = Deck.deal_card(deck)\n",
    "    value_array.append(Deck.name_of_card(values[1])[1])\n",
    "    #print(Deck.name_of_card(values[1])[0])\n",
    "    #print(Deck.name_of_card(values[1])[1])\n",
    "print(value_array)"
   ]
  },
  {
   "cell_type": "code",
   "execution_count": 25,
   "metadata": {
    "collapsed": false,
    "scrolled": true
   },
   "outputs": [
    {
     "name": "stdout",
     "output_type": "stream",
     "text": [
      "[1, 2, 3, 4, 5, 6, 7, 8, 9, 10, 11, 12, 13, 14, 15, 16, 17, 18, 19, 20, 21, 22, 23, 24, 25, 26, 27, 28, 29, 30, 31, 32, 33, 34, 35, 36, 37, 38, 39, 40, 41, 42, 43, 44, 45, 46, 47, 48, 49, 50, 51, 52]\n",
      "[15, 21, 13, 14, 16, 17, 17, 18, 21, 17, 21, 11, 15, 19, 25, 20, 20, 21, 16, 19, 20, 11, 25, 23, 18, 19, 19, 19, 24, 25, 26, 18, 20, 22, 16, 23, 20, 17, 22, 15, 21, 21, 26, 16, 14, 21, 23, 12, 25, 18, 27, 18]\n"
     ]
    }
   ],
   "source": [
    "#Random Distrubution Test\n",
    "value = []\n",
    "distribution = [0]*len(deck)\n",
    "for num in range(1000):\n",
    "    value.append(random.randint(1,len(deck)))\n",
    "#print(value)\n",
    "for index in range(len(distribution)):\n",
    "    distribution[index]=value.count(deck[index])\n",
    "print(deck)\n",
    "print(distribution)"
   ]
  },
  {
   "cell_type": "code",
   "execution_count": 162,
   "metadata": {
    "collapsed": false,
    "scrolled": true
   },
   "outputs": [
    {
     "name": "stdout",
     "output_type": "stream",
     "text": [
      "{'Ace of spades': [11, 1], 'Queen of spades': [10], '6 of hearts': [6]}\n"
     ]
    }
   ],
   "source": [
    "# Method for constructing a dictionary of a players hand, which can be used for gameplay value checking/display\n",
    "deck = Deck.fresh_deck(); #print(deck)\n",
    "hand = {}\n",
    "for i in range(3):\n",
    "    values = Deck.deal_card(deck)\n",
    "    hand[Deck.name_of_card(values[1])[0]] = Deck.name_of_card(values[1])[1]\n",
    "print(hand)\n"
   ]
  },
  {
   "cell_type": "code",
   "execution_count": 168,
   "metadata": {
    "collapsed": false
   },
   "outputs": [
    {
     "name": "stdout",
     "output_type": "stream",
     "text": [
      "Ace of spades\n"
     ]
    }
   ],
   "source": [
    "# Method for searching for an Ace in a players hand of cards\n",
    "for key,value in hand.items():\n",
    "    if key.startswith('Ace'):\n",
    "        print(key)"
   ]
  },
  {
   "cell_type": "code",
   "execution_count": 167,
   "metadata": {
    "collapsed": false,
    "scrolled": true
   },
   "outputs": [
    {
     "name": "stdout",
     "output_type": "stream",
     "text": [
      "27\n"
     ]
    }
   ],
   "source": [
    "# A Method for finding the sum of the players cards based on first pass, with Ace priority high (11)\n",
    "handsum = 0\n",
    "for i in hand.keys():\n",
    "    handsum += hand[i][0]\n",
    "print(handsum)"
   ]
  },
  {
   "cell_type": "code",
   "execution_count": null,
   "metadata": {
    "collapsed": true
   },
   "outputs": [],
   "source": []
  }
 ],
 "metadata": {
  "anaconda-cloud": {},
  "kernelspec": {
   "display_name": "Python [default]",
   "language": "python",
   "name": "python3"
  },
  "language_info": {
   "codemirror_mode": {
    "name": "ipython",
    "version": 3
   },
   "file_extension": ".py",
   "mimetype": "text/x-python",
   "name": "python",
   "nbconvert_exporter": "python",
   "pygments_lexer": "ipython3",
   "version": "3.5.2"
  }
 },
 "nbformat": 4,
 "nbformat_minor": 1
}
