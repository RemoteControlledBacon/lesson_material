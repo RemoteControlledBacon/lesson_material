{
 "cells": [
  {
   "cell_type": "code",
   "execution_count": 7,
   "metadata": {
    "collapsed": false,
    "scrolled": true
   },
   "outputs": [],
   "source": [
    "import random\n",
    "import math\n",
    "\n",
    "class Deck(object):\n",
    "    \n",
    "    def fresh_deck():\n",
    "        # Initializes a 52 card deck, shuffles it 7 times, then cuts it.\n",
    "        deck = list(range(1,53))                                  \n",
    "        for i in range(7):\n",
    "            random.shuffle(deck)\n",
    "        a = deck[:int(len(deck)/2)]; b = deck[int(len(deck)/2):]\n",
    "        deck = b + a\n",
    "        return deck\n",
    "    \n",
    "    def deal_card(deck):\n",
    "        #First draw a card from the deck\n",
    "        card = deck[-1]\n",
    "        deck.pop()        \n",
    "        #Then assign it's face value and card value points\n",
    "        card_val = math.ceil(card/4)+1\n",
    "        if card_val < 11:\n",
    "            card_name = str(card_val)\n",
    "            points = [card_val]\n",
    "        elif card_val > 10:\n",
    "            if card_val == 11:\n",
    "                card_name = 'Jack'\n",
    "                points = [10]\n",
    "            elif card_val == 12:\n",
    "                card_name = 'Queen'\n",
    "                points = [10]\n",
    "            elif card_val == 13:\n",
    "                card_name = 'King'\n",
    "                points = [10]\n",
    "            elif card_val == 14:\n",
    "                card_name = 'Ace'\n",
    "                points = [11, 1]\n",
    "        if card%4 == 0:\n",
    "            card_suit = ' of spades'\n",
    "        elif card%4 == 3:\n",
    "            card_suit = ' of hearts'\n",
    "        elif card%4 == 2:\n",
    "            card_suit = ' of diamonds'\n",
    "        elif card%4 == 1:\n",
    "            card_suit = ' of clubs'\n",
    "        card_face = str(card_name+card_suit)\n",
    "        card_points = points\n",
    "        return card_face,card_points"
   ]
  },
  {
   "cell_type": "code",
   "execution_count": 8,
   "metadata": {
    "collapsed": false
   },
   "outputs": [
    {
     "name": "stdout",
     "output_type": "stream",
     "text": [
      "['6 of diamonds', 'King of clubs', 'Queen of hearts', '5 of diamonds', '10 of hearts', 'Jack of spades', '2 of hearts', '7 of diamonds', 'King of spades', 'Ace of diamonds', '7 of spades', 'Ace of spades', '7 of hearts', '10 of clubs', '5 of clubs', 'Jack of diamonds', '3 of clubs', 'Ace of hearts', '9 of clubs', '9 of hearts', '2 of spades', '8 of spades', 'King of hearts', 'Queen of diamonds', '6 of hearts', '4 of diamonds', '8 of hearts', '5 of hearts', '5 of spades', 'Ace of clubs', '2 of diamonds', '3 of spades', '4 of hearts', '4 of clubs', '8 of diamonds', '3 of diamonds', '4 of spades', 'Jack of hearts', 'Queen of spades', '9 of spades', 'Queen of clubs', '8 of clubs', 'Jack of clubs', '10 of spades', '10 of diamonds', '2 of clubs', '6 of clubs', '9 of diamonds', '7 of clubs', '6 of spades', 'King of diamonds', '3 of hearts']\n"
     ]
    }
   ],
   "source": [
    "#Testing the Big Deck Class\n",
    "\n",
    "deck = Deck.fresh_deck()\n",
    "#Deck.deal_card(deck)[0]\n",
    "value_array = []\n",
    "for i in range(52):\n",
    "    value_array.append(Deck.deal_card(deck)[0])\n",
    "print(value_array)"
   ]
  },
  {
   "cell_type": "code",
   "execution_count": 63,
   "metadata": {
    "collapsed": false
   },
   "outputs": [],
   "source": [
    "# Player hand operations\n",
    "import itertools\n",
    "\n",
    "class Player(object):\n",
    "    \n",
    "    def __init__(self, money=0, bet=0, hand=None):\n",
    "        self.money = money\n",
    "        self.bet = bet\n",
    "        self.hand = {'faces':[],'values':[]}\n",
    "        \n",
    "    def hand_score(self,hand_values):\n",
    "        '''\n",
    "        Checks a hand of cards for all permutations of card values. Neglects those over 21 and duplicates.\n",
    "        Returns valid permutations from above criteria, returns if blackjack (values = 21) is true or not.\n",
    "        Retures itertools\n",
    "        '''\n",
    "        values = list(itertools.product(*hand_values))\n",
    "        score = []\n",
    "        for i in range(len(values)):\n",
    "            score.append(sum(values[i]))\n",
    "        if all(i > 21 for i in score):\n",
    "            bust = True\n",
    "        else:\n",
    "            bust = False        \n",
    "        reduced_scores = [x for x in list(set(score)) if x < 22]\n",
    "        reduced_scores.sort()    \n",
    "        if 21 in reduced_scores:\n",
    "            blackjack = True\n",
    "        else:\n",
    "            blackjack = False    \n",
    "        return blackjack,bust,reduced_scores\n",
    "\n",
    "    def hand_update(self,card_face, card_points):\n",
    "        self.hand['faces'].append(card_face)\n",
    "        self.hand['values'].append(card_points)        \n",
    "\n",
    "    def hand_clear(self):\n",
    "        del self.hand['faces'][:]\n",
    "        del self.hand['values'][:]\n"
   ]
  },
  {
   "cell_type": "code",
   "execution_count": 64,
   "metadata": {
    "collapsed": false
   },
   "outputs": [
    {
     "data": {
      "text/plain": [
       "<__main__.Player at 0x7f6be070f4a8>"
      ]
     },
     "execution_count": 64,
     "metadata": {},
     "output_type": "execute_result"
    }
   ],
   "source": [
    "Player()"
   ]
  },
  {
   "cell_type": "code",
   "execution_count": 71,
   "metadata": {
    "collapsed": false
   },
   "outputs": [
    {
     "name": "stdout",
     "output_type": "stream",
     "text": [
      "What do you want your player to be named? BACON!\n",
      "40\n",
      "200\n",
      "260\n",
      "BACON!'s hand:\n",
      "['7 of clubs', '8 of diamonds']\n",
      "(False, False, [15])\n",
      "Dealer's hand:\n",
      "['7 of diamonds', 'Ace of spades']\n",
      "(False, False, [8, 18])\n",
      "BACON!'s hand:\n",
      "['7 of clubs', '8 of diamonds', '3 of hearts']\n",
      "(False, False, [18])\n"
     ]
    }
   ],
   "source": [
    "deck = Deck.fresh_deck()\n",
    "player_title = input('What do you want your player to be named? ')\n",
    "player_name = player_title\n",
    "player_name = Player()\n",
    "\n",
    "\n",
    "player_name.money = 200\n",
    "player_name.bet = 40\n",
    "print(player_name.bet)\n",
    "print(player_name.money)\n",
    "\n",
    "player_name.money += 1.5 * player_name.bet\n",
    "print(int(player_name.money))\n",
    "\n",
    "player_name.hand_update(*Deck.deal_card(deck))\n",
    "player_name.hand_update(*Deck.deal_card(deck))\n",
    "print(str(player_title) + \"'s hand:\")\n",
    "print(player_name.hand['faces'])\n",
    "print(player_name.hand_score(player_name.hand['values']))\n",
    "\n",
    "Dealer = Player()\n",
    "Dealer.hand_update(*Deck.deal_card(deck))\n",
    "Dealer.hand_update(*Deck.deal_card(deck))\n",
    "print(\"Dealer's hand:\")\n",
    "print(Dealer.hand['faces'])\n",
    "print(Dealer.hand_score(Dealer.hand['values']))\n",
    "\n",
    "player_name.hand_update(*Deck.deal_card(deck))\n",
    "print(str(player_title) + \"'s hand:\")\n",
    "print(player_name.hand['faces'])\n",
    "print(player_name.hand_score(player_name.hand['values']))"
   ]
  },
  {
   "cell_type": "code",
   "execution_count": 50,
   "metadata": {
    "collapsed": false
   },
   "outputs": [
    {
     "data": {
      "text/plain": [
       "['ace']"
      ]
     },
     "execution_count": 50,
     "metadata": {},
     "output_type": "execute_result"
    }
   ],
   "source": [
    "hand = {'faces':[],'values':[]}\n",
    "hand['faces'].append('ace')\n",
    "hand['faces']"
   ]
  },
  {
   "cell_type": "code",
   "execution_count": 21,
   "metadata": {
    "collapsed": true
   },
   "outputs": [
    {
     "ename": "ValueError",
     "evalue": "empty range for randrange() (1,1, 0)",
     "output_type": "error",
     "traceback": [
      "\u001b[0;31m---------------------------------------------------------------------------\u001b[0m",
      "\u001b[0;31mValueError\u001b[0m                                Traceback (most recent call last)",
      "\u001b[0;32m<ipython-input-21-b661410ee052>\u001b[0m in \u001b[0;36m<module>\u001b[0;34m()\u001b[0m\n\u001b[1;32m      3\u001b[0m \u001b[0mdistribution\u001b[0m \u001b[0;34m=\u001b[0m \u001b[0;34m[\u001b[0m\u001b[0;36m0\u001b[0m\u001b[0;34m]\u001b[0m\u001b[0;34m*\u001b[0m\u001b[0mlen\u001b[0m\u001b[0;34m(\u001b[0m\u001b[0mdeck\u001b[0m\u001b[0;34m)\u001b[0m\u001b[0;34m\u001b[0m\u001b[0m\n\u001b[1;32m      4\u001b[0m \u001b[0;32mfor\u001b[0m \u001b[0mnum\u001b[0m \u001b[0;32min\u001b[0m \u001b[0mrange\u001b[0m\u001b[0;34m(\u001b[0m\u001b[0;36m1000\u001b[0m\u001b[0;34m)\u001b[0m\u001b[0;34m:\u001b[0m\u001b[0;34m\u001b[0m\u001b[0m\n\u001b[0;32m----> 5\u001b[0;31m     \u001b[0mvalue\u001b[0m\u001b[0;34m.\u001b[0m\u001b[0mappend\u001b[0m\u001b[0;34m(\u001b[0m\u001b[0mrandom\u001b[0m\u001b[0;34m.\u001b[0m\u001b[0mrandint\u001b[0m\u001b[0;34m(\u001b[0m\u001b[0;36m1\u001b[0m\u001b[0;34m,\u001b[0m\u001b[0mlen\u001b[0m\u001b[0;34m(\u001b[0m\u001b[0mdeck\u001b[0m\u001b[0;34m)\u001b[0m\u001b[0;34m)\u001b[0m\u001b[0;34m)\u001b[0m\u001b[0;34m\u001b[0m\u001b[0m\n\u001b[0m\u001b[1;32m      6\u001b[0m \u001b[0;31m#print(value)\u001b[0m\u001b[0;34m\u001b[0m\u001b[0;34m\u001b[0m\u001b[0m\n\u001b[1;32m      7\u001b[0m \u001b[0;32mfor\u001b[0m \u001b[0mindex\u001b[0m \u001b[0;32min\u001b[0m \u001b[0mrange\u001b[0m\u001b[0;34m(\u001b[0m\u001b[0mlen\u001b[0m\u001b[0;34m(\u001b[0m\u001b[0mdistribution\u001b[0m\u001b[0;34m)\u001b[0m\u001b[0;34m)\u001b[0m\u001b[0;34m:\u001b[0m\u001b[0;34m\u001b[0m\u001b[0m\n",
      "\u001b[0;32m/home/esteban/anaconda3/lib/python3.5/random.py\u001b[0m in \u001b[0;36mrandint\u001b[0;34m(self, a, b)\u001b[0m\n\u001b[1;32m    216\u001b[0m         \"\"\"\n\u001b[1;32m    217\u001b[0m \u001b[0;34m\u001b[0m\u001b[0m\n\u001b[0;32m--> 218\u001b[0;31m         \u001b[0;32mreturn\u001b[0m \u001b[0mself\u001b[0m\u001b[0;34m.\u001b[0m\u001b[0mrandrange\u001b[0m\u001b[0;34m(\u001b[0m\u001b[0ma\u001b[0m\u001b[0;34m,\u001b[0m \u001b[0mb\u001b[0m\u001b[0;34m+\u001b[0m\u001b[0;36m1\u001b[0m\u001b[0;34m)\u001b[0m\u001b[0;34m\u001b[0m\u001b[0m\n\u001b[0m\u001b[1;32m    219\u001b[0m \u001b[0;34m\u001b[0m\u001b[0m\n\u001b[1;32m    220\u001b[0m     def _randbelow(self, n, int=int, maxsize=1<<BPF, type=type,\n",
      "\u001b[0;32m/home/esteban/anaconda3/lib/python3.5/random.py\u001b[0m in \u001b[0;36mrandrange\u001b[0;34m(self, start, stop, step, _int)\u001b[0m\n\u001b[1;32m    194\u001b[0m             \u001b[0;32mreturn\u001b[0m \u001b[0mistart\u001b[0m \u001b[0;34m+\u001b[0m \u001b[0mself\u001b[0m\u001b[0;34m.\u001b[0m\u001b[0m_randbelow\u001b[0m\u001b[0;34m(\u001b[0m\u001b[0mwidth\u001b[0m\u001b[0;34m)\u001b[0m\u001b[0;34m\u001b[0m\u001b[0m\n\u001b[1;32m    195\u001b[0m         \u001b[0;32mif\u001b[0m \u001b[0mstep\u001b[0m \u001b[0;34m==\u001b[0m \u001b[0;36m1\u001b[0m\u001b[0;34m:\u001b[0m\u001b[0;34m\u001b[0m\u001b[0m\n\u001b[0;32m--> 196\u001b[0;31m             \u001b[0;32mraise\u001b[0m \u001b[0mValueError\u001b[0m\u001b[0;34m(\u001b[0m\u001b[0;34m\"empty range for randrange() (%d,%d, %d)\"\u001b[0m \u001b[0;34m%\u001b[0m \u001b[0;34m(\u001b[0m\u001b[0mistart\u001b[0m\u001b[0;34m,\u001b[0m \u001b[0mistop\u001b[0m\u001b[0;34m,\u001b[0m \u001b[0mwidth\u001b[0m\u001b[0;34m)\u001b[0m\u001b[0;34m)\u001b[0m\u001b[0;34m\u001b[0m\u001b[0m\n\u001b[0m\u001b[1;32m    197\u001b[0m \u001b[0;34m\u001b[0m\u001b[0m\n\u001b[1;32m    198\u001b[0m         \u001b[0;31m# Non-unit step argument supplied.\u001b[0m\u001b[0;34m\u001b[0m\u001b[0;34m\u001b[0m\u001b[0m\n",
      "\u001b[0;31mValueError\u001b[0m: empty range for randrange() (1,1, 0)"
     ]
    }
   ],
   "source": [
    "#Random Distrubution Test\n",
    "value = []\n",
    "distribution = [0]*len(deck)\n",
    "for num in range(1000):\n",
    "    value.append(random.randint(1,len(deck)))\n",
    "#print(value)\n",
    "for index in range(len(distribution)):\n",
    "    distribution[index]=value.count(deck[index])\n",
    "print(deck)\n",
    "print(distribution)"
   ]
  },
  {
   "cell_type": "code",
   "execution_count": 22,
   "metadata": {
    "collapsed": false,
    "scrolled": true
   },
   "outputs": [
    {
     "name": "stdout",
     "output_type": "stream",
     "text": [
      "IndexedOrderedDict([('Ace of clubs', [11, 1]), ('6 of clubs', [6]), ('9 of clubs', [9])])\n"
     ]
    }
   ],
   "source": [
    "# Method for constructing a dictionary of a players hand, which can be used for gameplay value checking/display\n",
    "deck = Deck.fresh_deck(); #print(deck)\n",
    "#hand = {}\n",
    "hand = IndexedOrderedDict()\n",
    "for i in range(3):\n",
    "    values = Deck.deal_card(deck)\n",
    "    hand[Deck.name_of_card(values[1])[0]] = Deck.name_of_card(values[1])[1]\n",
    "print(hand)\n"
   ]
  },
  {
   "cell_type": "code",
   "execution_count": 23,
   "metadata": {
    "collapsed": false
   },
   "outputs": [
    {
     "name": "stdout",
     "output_type": "stream",
     "text": [
      "Ace of clubs\n",
      "[0]\n"
     ]
    }
   ],
   "source": [
    "# Method for searching for an Ace in a players hand of cards\n",
    "player_hand_aces = []\n",
    "for key,value in hand.items():\n",
    "    #print(hand.keys().index(key))\n",
    "    if key.startswith('Ace'):\n",
    "        player_hand_aces.append(hand.keys().index(key))\n",
    "        print(key)\n",
    "print(player_hand_aces)"
   ]
  },
  {
   "cell_type": "code",
   "execution_count": 24,
   "metadata": {
    "collapsed": false
   },
   "outputs": [
    {
     "name": "stdout",
     "output_type": "stream",
     "text": [
      "['2 of diamonds', '9 of diamonds', 'Ace of spades', '8 of clubs', 'Ace of clubs']\n",
      "[[2], [9], [11, 1], [8], [11, 1]]\n",
      "IndexedOrderedDict([('2 of diamonds', [2]), ('9 of diamonds', [9]), ('Ace of spades', [11, 1]), ('8 of clubs', [8]), ('Ace of clubs', [11, 1])])\n"
     ]
    }
   ],
   "source": [
    "# Synthetic player hand creation for testing hand_over calculator\n",
    "syn_hand = IndexedOrderedDict()\n",
    "syn_cards = [2,30,52,25,49]\n",
    "syn_hand_face = []\n",
    "syn_hand_value = []\n",
    "for i in syn_cards:\n",
    "    syn_hand_face.append(Deck.name_of_card(i)[0])\n",
    "    syn_hand_value.append(Deck.name_of_card(i)[1])\n",
    "    syn_hand[Deck.name_of_card(i)[0]] = Deck.name_of_card(i)[1]\n",
    "print(syn_hand_face)\n",
    "print(syn_hand_value)\n",
    "print(syn_hand)\n",
    "\n",
    "#int(syn_hand.values()[2][1])\n",
    "\n",
    "#syn_hand.values()[syn_hand.keys().index('Ace of spades')][1]"
   ]
  },
  {
   "cell_type": "code",
   "execution_count": 32,
   "metadata": {
    "collapsed": true
   },
   "outputs": [],
   "source": [
    "def hand_score(hand_values):\n",
    "    '''\n",
    "    Checks a hand of cards for all permutations of card values. Neglects those over 21 and duplicates.\n",
    "    Returns valid permutations from above criteria, returns if blackjack (values = 21) is true or not.\n",
    "    Retures itertools\n",
    "    '''\n",
    "    values = list(itertools.product(*hand_values))\n",
    "    score = []\n",
    "\n",
    "    for i in range(len(values)):\n",
    "        score.append(sum(values[i]))\n",
    "        \n",
    "    reduced_scores = [x for x in list(set(score)) if x < 22]\n",
    "    reduced_scores.sort()\n",
    "    \n",
    "    if 21 in reduced_scores:\n",
    "        blackjack = True\n",
    "    else:\n",
    "        blackjack = False\n",
    "    \n",
    "    return reduced_scores,blackjack"
   ]
  },
  {
   "cell_type": "code",
   "execution_count": 33,
   "metadata": {
    "collapsed": false
   },
   "outputs": [
    {
     "data": {
      "text/plain": [
       "([21], True)"
      ]
     },
     "execution_count": 33,
     "metadata": {},
     "output_type": "execute_result"
    }
   ],
   "source": [
    "hand_score(syn_hand_value)"
   ]
  },
  {
   "cell_type": "code",
   "execution_count": null,
   "metadata": {
    "collapsed": true
   },
   "outputs": [],
   "source": []
  }
 ],
 "metadata": {
  "anaconda-cloud": {},
  "kernelspec": {
   "display_name": "Python [default]",
   "language": "python",
   "name": "python3"
  },
  "language_info": {
   "codemirror_mode": {
    "name": "ipython",
    "version": 3
   },
   "file_extension": ".py",
   "mimetype": "text/x-python",
   "name": "python",
   "nbconvert_exporter": "python",
   "pygments_lexer": "ipython3",
   "version": "3.5.2"
  }
 },
 "nbformat": 4,
 "nbformat_minor": 1
}
