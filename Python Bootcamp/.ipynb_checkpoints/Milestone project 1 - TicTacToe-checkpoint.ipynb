{
 "cells": [
  {
   "cell_type": "code",
   "execution_count": 24,
   "metadata": {
    "collapsed": false
   },
   "outputs": [
    {
     "name": "stdout",
     "output_type": "stream",
     "text": [
      "  reference board         playing area   \n",
      "*******************   *******************\n",
      "*  1  *  2  *  3  *   *     *     *     *\n",
      "*******************   *******************\n",
      "*  4  *  5  *  6  *   *     *     *     *\n",
      "*******************   *******************\n",
      "*  7  *  8  *  9  *   *     *     *     *\n",
      "*******************   *******************\n"
     ]
    }
   ],
   "source": [
    "print(\"  reference board         playing area   \")\n",
    "print(\"*******************   *******************\")\n",
    "print(\"*  1  *  2  *  3  *   *     *     *     *\")\n",
    "print(\"*******************   *******************\")\n",
    "print(\"*  4  *  5  *  6  *   *     *     *     *\")\n",
    "print(\"*******************   *******************\")\n",
    "print(\"*  7  *  8  *  9  *   *     *     *     *\")\n",
    "print(\"*******************   *******************\")\n",
    "      "
   ]
  },
  {
   "cell_type": "code",
   "execution_count": 221,
   "metadata": {
    "collapsed": false
   },
   "outputs": [
    {
     "data": {
      "text/plain": [
       "[' ', ' ', ' ', ' ', ' ', ' ', ' ', ' ', ' ']"
      ]
     },
     "execution_count": 221,
     "metadata": {},
     "output_type": "execute_result"
    }
   ],
   "source": [
    "t = [' ',' ',' ',' ',' ',' ',' ',' ',' ']; t"
   ]
  },
  {
   "cell_type": "code",
   "execution_count": 222,
   "metadata": {
    "collapsed": false
   },
   "outputs": [],
   "source": [
    "def player_move():\n",
    "    move_done = False\n",
    "    while move_done == False:\n",
    "        input_value = int(input(\"Enter your move: \"))\n",
    "        if input_value not in range(1,10):\n",
    "            print(\"Please Enter a value between 1 and 9\")\n",
    "        else:    \n",
    "            if t[input_value-1] == ' ':\n",
    "                t[input_value-1] = 'X'\n",
    "                #Check for winner here - function\n",
    "                print_playing_area()\n",
    "                move_done = True\n",
    "            else: print(\"Please enter a valid move!\")\n",
    "    "
   ]
  },
  {
   "cell_type": "code",
   "execution_count": 232,
   "metadata": {
    "collapsed": false
   },
   "outputs": [
    {
     "name": "stdout",
     "output_type": "stream",
     "text": [
      "Enter your move: 5\n",
      "  reference board         playing area   \n",
      "*******************   *******************\n",
      "*  1  *  2  *  3  *   *  X  *  O  *  X  *\n",
      "*******************   *******************\n",
      "*  4  *  5  *  6  *   *  O  *  X  *  O  *\n",
      "*******************   *******************\n",
      "*  7  *  8  *  9  *   *  X  *  O  *  X  *\n",
      "*******************   *******************\n"
     ]
    }
   ],
   "source": [
    "player_move()"
   ]
  },
  {
   "cell_type": "code",
   "execution_count": 224,
   "metadata": {
    "collapsed": false
   },
   "outputs": [],
   "source": [
    "import random\n",
    "\n",
    "def dumb_computer_move():\n",
    "    move_done = False\n",
    "    while move_done == False:\n",
    "        if sum(1 for x in t if x==' ') > 1:\n",
    "            c = random.randrange(9)\n",
    "            if t[c] == ' ':\n",
    "                t[c] = 'O'\n",
    "                #Check for winner here - function\n",
    "                print_playing_area()\n",
    "                move_done = True\n",
    "            else:\n",
    "                pass\n",
    "        else:\n",
    "            ['O' if x==' ' else x for x in t]\n",
    "            #Check for winner here - function\n",
    "            print_playing_area()\n",
    "            move_done = True"
   ]
  },
  {
   "cell_type": "code",
   "execution_count": 231,
   "metadata": {
    "collapsed": false
   },
   "outputs": [
    {
     "name": "stdout",
     "output_type": "stream",
     "text": [
      "  reference board         playing area   \n",
      "*******************   *******************\n",
      "*  1  *  2  *  3  *   *  X  *  O  *  X  *\n",
      "*******************   *******************\n",
      "*  4  *  5  *  6  *   *  O  *     *  O  *\n",
      "*******************   *******************\n",
      "*  7  *  8  *  9  *   *  X  *  O  *  X  *\n",
      "*******************   *******************\n"
     ]
    }
   ],
   "source": [
    "dumb_computer_move()"
   ]
  },
  {
   "cell_type": "code",
   "execution_count": 47,
   "metadata": {
    "collapsed": false
   },
   "outputs": [],
   "source": [
    "def print_playing_area():\n",
    "    print(\"  reference board         playing area   \")\n",
    "    print(\"*******************   *******************\")\n",
    "    print(\"*  1  *  2  *  3  *   *  {0}  *  {1}  *  {2}  *\".format(t[0],t[1],t[2]))\n",
    "    print(\"*******************   *******************\")\n",
    "    print(\"*  4  *  5  *  6  *   *  {0}  *  {1}  *  {2}  *\".format(t[3],t[4],t[5]))\n",
    "    print(\"*******************   *******************\")\n",
    "    print(\"*  7  *  8  *  9  *   *  {0}  *  {1}  *  {2}  *\".format(t[6],t[7],t[8]))\n",
    "    print(\"*******************   *******************\")"
   ]
  },
  {
   "cell_type": "code",
   "execution_count": 48,
   "metadata": {
    "collapsed": false
   },
   "outputs": [
    {
     "name": "stdout",
     "output_type": "stream",
     "text": [
      "  reference board         playing area   \n",
      "*******************   *******************\n",
      "*  1  *  2  *  3  *   *     *     *     *\n",
      "*******************   *******************\n",
      "*  4  *  5  *  6  *   *     *     *     *\n",
      "*******************   *******************\n",
      "*  7  *  8  *  9  *   *     *     *     *\n",
      "*******************   *******************\n"
     ]
    }
   ],
   "source": [
    "print_playing_area()"
   ]
  },
  {
   "cell_type": "code",
   "execution_count": 115,
   "metadata": {
    "collapsed": false
   },
   "outputs": [
    {
     "data": {
      "text/plain": [
       "[0, 'O', 2, 3, 4, 5, 6, 7, 8, 9, 10]"
      ]
     },
     "execution_count": 115,
     "metadata": {},
     "output_type": "execute_result"
    }
   ],
   "source": [
    "items = [0, ' ', 2, 3, 4, 5, 6, 7, 8, 9, 10]\n",
    "['O' if x==' ' else x for x in items]"
   ]
  },
  {
   "cell_type": "code",
   "execution_count": null,
   "metadata": {
    "collapsed": true
   },
   "outputs": [],
   "source": []
  }
 ],
 "metadata": {
  "anaconda-cloud": {},
  "kernelspec": {
   "display_name": "Python [default]",
   "language": "python",
   "name": "python3"
  },
  "language_info": {
   "codemirror_mode": {
    "name": "ipython",
    "version": 3
   },
   "file_extension": ".py",
   "mimetype": "text/x-python",
   "name": "python",
   "nbconvert_exporter": "python",
   "pygments_lexer": "ipython3",
   "version": "3.5.2"
  }
 },
 "nbformat": 4,
 "nbformat_minor": 1
}
