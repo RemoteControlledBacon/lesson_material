{
 "cells": [
  {
   "cell_type": "code",
   "execution_count": 66,
   "metadata": {
    "collapsed": false
   },
   "outputs": [
    {
     "name": "stdout",
     "output_type": "stream",
     "text": [
      "this is a string\n"
     ]
    }
   ],
   "source": [
    "print('this is a string')"
   ]
  },
  {
   "cell_type": "code",
   "execution_count": 84,
   "metadata": {
    "collapsed": false
   },
   "outputs": [
    {
     "name": "stdout",
     "output_type": "stream",
     "text": [
      "HEY! Place my variable here: 123.123\n"
     ]
    }
   ],
   "source": [
    "s = 123.123\n",
    "\n",
    "print('{}Place my variable here: {}'.format('HEY! ',s))"
   ]
  },
  {
   "cell_type": "code",
   "execution_count": 97,
   "metadata": {
    "collapsed": false
   },
   "outputs": [
    {
     "name": "stdout",
     "output_type": "stream",
     "text": [
      "Floating point number: 13.1\n"
     ]
    }
   ],
   "source": [
    "print('Floating point number: {:1.1f}'.format(13.123123))\n",
    "#python3 uses a different format for formatting, use link below for old/vs new rules\n",
    "# https://pyformat.info/"
   ]
  },
  {
   "cell_type": "code",
   "execution_count": 111,
   "metadata": {
    "collapsed": false
   },
   "outputs": [
    {
     "name": "stdout",
     "output_type": "stream",
     "text": [
      "Convert to string 123\n",
      "Convert to repr 456\n",
      "Convert to ascii 789\n",
      "Convert to ascii a b\n"
     ]
    }
   ],
   "source": [
    "print('Convert to string {0!s}'.format(123))\n",
    "print('Convert to repr {0!r}'.format(456))\n",
    "print('Convert to ascii {0!a}'.format(789))\n",
    "print('Convert to ascii {x} {y}'.format(x='a',y='b'))"
   ]
  },
  {
   "cell_type": "code",
   "execution_count": 117,
   "metadata": {
    "collapsed": false
   },
   "outputs": [
    {
     "name": "stdout",
     "output_type": "stream",
     "text": [
      "Object 1: 12, Object 2: 34, Object 3: 56\n"
     ]
    }
   ],
   "source": [
    "# use the value preceding the ! symbol to specify what value from the format tuple to use for the format conversion.\n",
    "print('Object 1: {0!s}, Object 2: {1!r}, Object 3: {2!a}'.format(12,34,56))"
   ]
  },
  {
   "cell_type": "code",
   "execution_count": 118,
   "metadata": {
    "collapsed": false
   },
   "outputs": [
    {
     "name": "stdout",
     "output_type": "stream",
     "text": [
      "Object 1: 12, Object 2: 34, Object 3: 56\n"
     ]
    }
   ],
   "source": [
    "# or... dont! it also automatically increments apparently - cannot mix and match though - either implicit or explicit only\n",
    "print('Object 1: {!s}, Object 2: {!r}, Object 3: {!a}'.format(12,34,56))"
   ]
  },
  {
   "cell_type": "code",
   "execution_count": 119,
   "metadata": {
    "collapsed": false
   },
   "outputs": [
    {
     "data": {
      "text/plain": [
       "'/home/steve/Documents/Jupyter Notebooks/Python Bootcamp'"
      ]
     },
     "execution_count": 119,
     "metadata": {},
     "output_type": "execute_result"
    }
   ],
   "source": []
  },
  {
   "cell_type": "code",
   "execution_count": null,
   "metadata": {
    "collapsed": true
   },
   "outputs": [],
   "source": []
  }
 ],
 "metadata": {
  "anaconda-cloud": {},
  "kernelspec": {
   "display_name": "Python [default]",
   "language": "python",
   "name": "python3"
  },
  "language_info": {
   "codemirror_mode": {
    "name": "ipython",
    "version": 3
   },
   "file_extension": ".py",
   "mimetype": "text/x-python",
   "name": "python",
   "nbconvert_exporter": "python",
   "pygments_lexer": "ipython3",
   "version": "3.5.2"
  }
 },
 "nbformat": 4,
 "nbformat_minor": 1
}
