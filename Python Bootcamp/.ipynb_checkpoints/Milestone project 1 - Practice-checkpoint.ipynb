{
 "cells": [
  {
   "cell_type": "code",
   "execution_count": 24,
   "metadata": {
    "collapsed": false
   },
   "outputs": [
    {
     "name": "stdout",
     "output_type": "stream",
     "text": [
      "  reference board         playing area   \n",
      "*******************   *******************\n",
      "*  1  *  2  *  3  *   *     *     *     *\n",
      "*******************   *******************\n",
      "*  4  *  5  *  6  *   *     *     *     *\n",
      "*******************   *******************\n",
      "*  7  *  8  *  9  *   *     *     *     *\n",
      "*******************   *******************\n"
     ]
    }
   ],
   "source": [
    "print(\"  reference board         playing area   \")\n",
    "print(\"*******************   *******************\")\n",
    "print(\"*  1  *  2  *  3  *   *     *     *     *\")\n",
    "print(\"*******************   *******************\")\n",
    "print(\"*  4  *  5  *  6  *   *     *     *     *\")\n",
    "print(\"*******************   *******************\")\n",
    "print(\"*  7  *  8  *  9  *   *     *     *     *\")\n",
    "print(\"*******************   *******************\")\n",
    "      "
   ]
  },
  {
   "cell_type": "code",
   "execution_count": 71,
   "metadata": {
    "collapsed": false
   },
   "outputs": [
    {
     "data": {
      "text/plain": [
       "['x', 'x', 'x', 'x', 'x', 'x', 'x', 'x', 'x']"
      ]
     },
     "execution_count": 71,
     "metadata": {},
     "output_type": "execute_result"
    }
   ],
   "source": [
    "t = ['x','x','x','x','x','x','x','x','x']; t"
   ]
  },
  {
   "cell_type": "code",
   "execution_count": 72,
   "metadata": {
    "collapsed": false
   },
   "outputs": [
    {
     "data": {
      "text/plain": [
       "9"
      ]
     },
     "execution_count": 72,
     "metadata": {},
     "output_type": "execute_result"
    }
   ],
   "source": [
    "sum(1 for x in t if x!=' ')"
   ]
  },
  {
   "cell_type": "code",
   "execution_count": 5,
   "metadata": {
    "collapsed": true
   },
   "outputs": [],
   "source": [
    "reset_board()"
   ]
  },
  {
   "cell_type": "code",
   "execution_count": 17,
   "metadata": {
    "collapsed": false
   },
   "outputs": [],
   "source": [
    "def player_move(player):\n",
    "    if player == 'A':\n",
    "        player_val = 'X'\n",
    "    elif player == 'B':\n",
    "        player_val = 'O'\n",
    "    move_done = False\n",
    "    while move_done == False:\n",
    "        input_value = int(input(\"Enter your move: \"))\n",
    "        if input_value not in range(1,10):\n",
    "            print(\"Please Enter a value between 1 and 9\")\n",
    "        else:    \n",
    "            if t[input_value-1] == ' ':\n",
    "                t[input_value-1] = player_val\n",
    "                print_playing_area()\n",
    "                move_done = True\n",
    "            else: print(\"Please enter a valid move!\")\n",
    "    "
   ]
  },
  {
   "cell_type": "code",
   "execution_count": 15,
   "metadata": {
    "collapsed": false
   },
   "outputs": [
    {
     "name": "stdout",
     "output_type": "stream",
     "text": [
      "Enter your move: 2\n",
      "  reference board         playing area   \n",
      "*******************   *******************\n",
      "*  1  *  2  *  3  *   *  X  *  X  *     *\n",
      "*******************   *******************\n",
      "*  4  *  5  *  6  *   *     *     *     *\n",
      "*******************   *******************\n",
      "*  7  *  8  *  9  *   *     *     *     *\n",
      "*******************   *******************\n"
     ]
    }
   ],
   "source": [
    "player_move()"
   ]
  },
  {
   "cell_type": "code",
   "execution_count": 18,
   "metadata": {
    "collapsed": false
   },
   "outputs": [],
   "source": [
    "import random\n",
    "\n",
    "def dumb_computer_move():\n",
    "    move_done = False\n",
    "    while move_done == False:\n",
    "        if sum(1 for x in t if x==' ') > 1:\n",
    "            c = random.randrange(9)\n",
    "            if t[c] == ' ':\n",
    "                t[c] = 'O'\n",
    "                #Check for winner here - function\n",
    "                check_for_winner()\n",
    "                print_playing_area()\n",
    "                move_done = True\n",
    "            else:\n",
    "                pass\n",
    "        else:\n",
    "            ['O' if x==' ' else x for x in t]\n",
    "            #Check for winner here - function\n",
    "            check_for_winner()\n",
    "            print_playing_area()\n",
    "            move_done = True"
   ]
  },
  {
   "cell_type": "code",
   "execution_count": 41,
   "metadata": {
    "collapsed": false,
    "scrolled": true
   },
   "outputs": [
    {
     "name": "stdout",
     "output_type": "stream",
     "text": [
      "The Computer has won!\n",
      "  reference board         playing area   \n",
      "*******************   *******************\n",
      "*  1  *  2  *  3  *   *  X  *  X  *     *\n",
      "*******************   *******************\n",
      "*  4  *  5  *  6  *   *  X  *  O  *  X  *\n",
      "*******************   *******************\n",
      "*  7  *  8  *  9  *   *  O  *  O  *  O  *\n",
      "*******************   *******************\n"
     ]
    }
   ],
   "source": [
    "dumb_computer_move()"
   ]
  },
  {
   "cell_type": "code",
   "execution_count": 13,
   "metadata": {
    "collapsed": false
   },
   "outputs": [],
   "source": [
    "def print_playing_area():\n",
    "    print(\"  reference board         playing area   \")\n",
    "    print(\"*******************   *******************\")\n",
    "    print(\"*  1  *  2  *  3  *   *  {0}  *  {1}  *  {2}  *\".format(t[0],t[1],t[2]))\n",
    "    print(\"*******************   *******************\")\n",
    "    print(\"*  4  *  5  *  6  *   *  {0}  *  {1}  *  {2}  *\".format(t[3],t[4],t[5]))\n",
    "    print(\"*******************   *******************\")\n",
    "    print(\"*  7  *  8  *  9  *   *  {0}  *  {1}  *  {2}  *\".format(t[6],t[7],t[8]))\n",
    "    print(\"*******************   *******************\")"
   ]
  },
  {
   "cell_type": "code",
   "execution_count": 233,
   "metadata": {
    "collapsed": false
   },
   "outputs": [
    {
     "name": "stdout",
     "output_type": "stream",
     "text": [
      "  reference board         playing area   \n",
      "*******************   *******************\n",
      "*  1  *  2  *  3  *   *  X  *  O  *  X  *\n",
      "*******************   *******************\n",
      "*  4  *  5  *  6  *   *  O  *  X  *  O  *\n",
      "*******************   *******************\n",
      "*  7  *  8  *  9  *   *  X  *  O  *  X  *\n",
      "*******************   *******************\n"
     ]
    }
   ],
   "source": [
    "print_playing_area()"
   ]
  },
  {
   "cell_type": "code",
   "execution_count": 14,
   "metadata": {
    "collapsed": false
   },
   "outputs": [],
   "source": [
    "def check_for_winner(player):\n",
    "    winner = [False,'']\n",
    "    if t[0]==t[1]==t[2] and t[1] != ' ': winner[0]=True; winner[1] = t[1]\n",
    "    if t[3]==t[4]==t[5] and t[3] != ' ': winner[0]=True; winner[1] = t[4]\n",
    "    if t[6]==t[7]==t[8] and t[7] != ' ': winner[0]=True; winner[1] = t[7]\n",
    "    if t[0]==t[3]==t[6] and t[3] != ' ': winner[0]=True; winner[1] = t[3]\n",
    "    if t[1]==t[4]==t[7] and t[4] != ' ': winner[0]=True; winner[1] = t[4]\n",
    "    if t[2]==t[5]==t[8] and t[5] != ' ': winner[0]=True; winner[1] = t[5]\n",
    "    if t[0]==t[4]==t[8] and t[4] != ' ': winner[0]=True; winner[1] = t[4]\n",
    "    if t[2]==t[4]==t[6] and t[4] != ' ': winner[0]=True; winner[1] = t[4]\n",
    "    if winner[0] == True:\n",
    "        print('player ' + player + ' has won!')\n",
    "        return True"
   ]
  },
  {
   "cell_type": "code",
   "execution_count": 42,
   "metadata": {
    "collapsed": true
   },
   "outputs": [],
   "source": [
    "#need to wrap all of these in a while loop now that switches based on whether or not there is a winner.\n",
    "#Bonus points if we start the game out with a 'Heads or Tails' or R.P.S. match... jus sayin...\n",
    "#it's possibly good to have the check_for_winner program to return the winner rather then print it, then...\n",
    "#use the returned value in the main while loop!\n"
   ]
  },
  {
   "cell_type": "code",
   "execution_count": 70,
   "metadata": {
    "collapsed": false
   },
   "outputs": [
    {
     "name": "stdout",
     "output_type": "stream",
     "text": [
      "Welcome to the game of tic-tac-toe!\n"
     ]
    }
   ],
   "source": [
    "def player_move(player):\n",
    "    if player == 1:\n",
    "        player_val = 'X'\n",
    "        player_name = 'A'\n",
    "    elif player == 0:\n",
    "        player_val = 'O'\n",
    "        player_name = 'B'\n",
    "    move_done = False\n",
    "    while move_done == False:\n",
    "        input_value = int(input(\"Enter your move, player \"+player_name+\": \"))\n",
    "        if input_value not in range(1,10):\n",
    "            print(\"Please Enter a value between 1 and 9\")\n",
    "        else:    \n",
    "            if t[input_value-1] == ' ':\n",
    "                t[input_value-1] = player_val\n",
    "                print_playing_area()\n",
    "                move_done = True\n",
    "            else: print(\"Please enter a valid move!\")\n",
    "\n",
    "def print_playing_area():\n",
    "    print(\"  reference board         playing area   \")\n",
    "    print(\"*******************   *******************\")\n",
    "    print(\"*  1  *  2  *  3  *   *  {0}  *  {1}  *  {2}  *\".format(t[0],t[1],t[2]))\n",
    "    print(\"*******************   *******************\")\n",
    "    print(\"*  4  *  5  *  6  *   *  {0}  *  {1}  *  {2}  *\".format(t[3],t[4],t[5]))\n",
    "    print(\"*******************   *******************\")\n",
    "    print(\"*  7  *  8  *  9  *   *  {0}  *  {1}  *  {2}  *\".format(t[6],t[7],t[8]))\n",
    "    print(\"*******************   *******************\")\n",
    "    \n",
    "def check_for_winner(player):\n",
    "    winner = [False,'']\n",
    "    if t[0]==t[1]==t[2] and t[1] != ' ': winner[0]=True; winner[1] = t[1]\n",
    "    if t[3]==t[4]==t[5] and t[3] != ' ': winner[0]=True; winner[1] = t[4]\n",
    "    if t[6]==t[7]==t[8] and t[7] != ' ': winner[0]=True; winner[1] = t[7]\n",
    "    if t[0]==t[3]==t[6] and t[3] != ' ': winner[0]=True; winner[1] = t[3]\n",
    "    if t[1]==t[4]==t[7] and t[4] != ' ': winner[0]=True; winner[1] = t[4]\n",
    "    if t[2]==t[5]==t[8] and t[5] != ' ': winner[0]=True; winner[1] = t[5]\n",
    "    if t[0]==t[4]==t[8] and t[4] != ' ': winner[0]=True; winner[1] = t[4]\n",
    "    if t[2]==t[4]==t[6] and t[4] != ' ': winner[0]=True; winner[1] = t[4]\n",
    "    if winner[0] == True:\n",
    "        if player == 1:\n",
    "            player_name = 'A'\n",
    "        elif player == 0:\n",
    "            player_name = 'B'\n",
    "        output = ('player ' + player_name + ' has won!')\n",
    "        return (True,output)\n",
    "    \n",
    "def play_tictactoe():\n",
    "    print('Welcome to the game of tic-tac-toe!')\n",
    "    player = 1\n",
    "    t = [' ',' ',' ',' ',' ',' ',' ',' ',' ']\n",
    "    while not check_for_winner(player):\n",
    "        player_move(player)\n",
    "        check_for_winner(player)\n",
    "        if not check_for_winner(player):\n",
    "            player = not player\n",
    "        if check_for_winner(player):\n",
    "            (a,b) = check_for_winner(player)\n",
    "            print(str(b))\n",
    "                  \n",
    "play_tictactoe()"
   ]
  },
  {
   "cell_type": "code",
   "execution_count": null,
   "metadata": {
    "collapsed": true
   },
   "outputs": [],
   "source": []
  }
 ],
 "metadata": {
  "anaconda-cloud": {},
  "kernelspec": {
   "display_name": "Python [default]",
   "language": "python",
   "name": "python3"
  },
  "language_info": {
   "codemirror_mode": {
    "name": "ipython",
    "version": 3
   },
   "file_extension": ".py",
   "mimetype": "text/x-python",
   "name": "python",
   "nbconvert_exporter": "python",
   "pygments_lexer": "ipython3",
   "version": "3.5.2"
  }
 },
 "nbformat": 4,
 "nbformat_minor": 1
}
