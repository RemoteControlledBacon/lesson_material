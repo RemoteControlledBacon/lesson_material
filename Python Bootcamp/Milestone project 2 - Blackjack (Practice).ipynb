{
 "cells": [
  {
   "cell_type": "code",
   "execution_count": 1,
   "metadata": {
    "collapsed": false,
    "scrolled": true
   },
   "outputs": [],
   "source": [
    "import random\n",
    "import math\n",
    "\n",
    "class Deck(object):\n",
    "    \n",
    "    def fresh_deck():\n",
    "        # Initializes a 52 card deck, shuffles it 7 times, then cuts it.\n",
    "        deck = list(range(1,53))                                  \n",
    "        for i in range(7):\n",
    "            random.shuffle(deck)\n",
    "        a = deck[:int(len(deck)/2)]; b = deck[int(len(deck)/2):]\n",
    "        deck = b + a\n",
    "        return deck\n",
    "    \n",
    "    def deal_card(deck):\n",
    "        #First draw a card from the deck\n",
    "        card = deck[-1]\n",
    "        deck.pop()        \n",
    "        #Then assign it's face value and card value points\n",
    "        card_val = math.ceil(card/4)+1\n",
    "        if card_val < 11:\n",
    "            card_name = str(card_val)\n",
    "            points = [card_val]\n",
    "        elif card_val > 10:\n",
    "            if card_val == 11:\n",
    "                card_name = 'Jack'\n",
    "                points = [10]\n",
    "            elif card_val == 12:\n",
    "                card_name = 'Queen'\n",
    "                points = [10]\n",
    "            elif card_val == 13:\n",
    "                card_name = 'King'\n",
    "                points = [10]\n",
    "            elif card_val == 14:\n",
    "                card_name = 'Ace'\n",
    "                points = [11, 1]\n",
    "        if card%4 == 0:\n",
    "            card_suit = ' of spades'\n",
    "        elif card%4 == 3:\n",
    "            card_suit = ' of hearts'\n",
    "        elif card%4 == 2:\n",
    "            card_suit = ' of diamonds'\n",
    "        elif card%4 == 1:\n",
    "            card_suit = ' of clubs'\n",
    "        card_face = str(card_name+card_suit)\n",
    "        card_points = points\n",
    "        return card_face,card_points"
   ]
  },
  {
   "cell_type": "code",
   "execution_count": 8,
   "metadata": {
    "collapsed": false
   },
   "outputs": [
    {
     "name": "stdout",
     "output_type": "stream",
     "text": [
      "['6 of diamonds', 'King of clubs', 'Queen of hearts', '5 of diamonds', '10 of hearts', 'Jack of spades', '2 of hearts', '7 of diamonds', 'King of spades', 'Ace of diamonds', '7 of spades', 'Ace of spades', '7 of hearts', '10 of clubs', '5 of clubs', 'Jack of diamonds', '3 of clubs', 'Ace of hearts', '9 of clubs', '9 of hearts', '2 of spades', '8 of spades', 'King of hearts', 'Queen of diamonds', '6 of hearts', '4 of diamonds', '8 of hearts', '5 of hearts', '5 of spades', 'Ace of clubs', '2 of diamonds', '3 of spades', '4 of hearts', '4 of clubs', '8 of diamonds', '3 of diamonds', '4 of spades', 'Jack of hearts', 'Queen of spades', '9 of spades', 'Queen of clubs', '8 of clubs', 'Jack of clubs', '10 of spades', '10 of diamonds', '2 of clubs', '6 of clubs', '9 of diamonds', '7 of clubs', '6 of spades', 'King of diamonds', '3 of hearts']\n"
     ]
    }
   ],
   "source": [
    "#Testing the Big Deck Class\n",
    "\n",
    "deck = Deck.fresh_deck()\n",
    "#Deck.deal_card(deck)[0]\n",
    "value_array = []\n",
    "for i in range(52):\n",
    "    value_array.append(Deck.deal_card(deck)[0])\n",
    "print(value_array)"
   ]
  },
  {
   "cell_type": "code",
   "execution_count": 120,
   "metadata": {
    "collapsed": false
   },
   "outputs": [],
   "source": [
    "# Player hand operations\n",
    "import itertools\n",
    "import time\n",
    "from IPython.display import clear_output\n",
    "\n",
    "class Player(object):\n",
    "    \n",
    "    def __init__(self, money=0, bet=0, hand=None):\n",
    "        self.money = money\n",
    "        self.bet = bet\n",
    "        self.hand = {'faces':[],'values':[]}\n",
    "        \n",
    "    def hand_score(self,hand_values):\n",
    "        '''\n",
    "        Checks a hand of cards for all permutations of card values. Neglects those over 21 and duplicates.\n",
    "        Returns valid permutations from above criteria, returns if blackjack (values = 21) is true or not.\n",
    "        Retures itertools\n",
    "        '''\n",
    "        values = list(itertools.product(*hand_values))\n",
    "        score = []\n",
    "        for i in range(len(values)):\n",
    "            score.append(sum(values[i]))\n",
    "        if all(i > 21 for i in score):\n",
    "            bust = True\n",
    "        else:\n",
    "            bust = False        \n",
    "        reduced_scores = [x for x in list(set(score)) if x < 22]\n",
    "        reduced_scores.sort()    \n",
    "        if 21 in reduced_scores:\n",
    "            blackjack = True\n",
    "        else:\n",
    "            blackjack = False\n",
    "        if blackjack == True:\n",
    "            status = 'Blackjack!'\n",
    "        elif bust == True:\n",
    "            status = 'Bust!'\n",
    "        else:\n",
    "            status = str(reduced_scores)\n",
    "            \n",
    "        return blackjack,bust,reduced_scores,status\n",
    "\n",
    "    def hand_update(self,card_face, card_points):\n",
    "        self.hand['faces'].append(card_face)\n",
    "        self.hand['values'].append(card_points)        \n",
    "\n",
    "    def hand_clear(self):\n",
    "        del self.hand['faces'][:]\n",
    "        del self.hand['values'][:]\n",
    "    \n",
    "    def player_money(self):\n",
    "        money = 0\n",
    "        while not money > 0:\n",
    "            money = input(\"How much money are you bringing to the game? $\")\n",
    "            try:\n",
    "                money = int(float(money))\n",
    "                clear_output()\n",
    "                self.money = money\n",
    "            except:\n",
    "                print(\"please enter a value in monitary form!\")\n",
    "                money = 0\n",
    "    \n",
    "    def player_bet(self,players_money):\n",
    "        bet = False\n",
    "        while bet == False:\n",
    "            bet = input(\"What is your bet? $\")\n",
    "            try:\n",
    "                bet = int(float(bet))\n",
    "                if bet <= players_money:\n",
    "                    self.bet = bet\n",
    "                    clear_output()\n",
    "                    print(\"Thanks! Let the game begin!\")\n",
    "                    time.sleep(2)\n",
    "                    clear_output()\n",
    "                else:\n",
    "                    print(\"You can't bet more then you have!\")\n",
    "                    bet = False\n",
    "            except:\n",
    "                print(\"please enter a value in monitary form!\")\n",
    "                bet = False\n",
    "                \n",
    "    def hit_stay(self):\n",
    "        move = ''\n",
    "        while not (move == 'H' or move == 'S'):\n",
    "            move = input(\"Hit or Stay? (type 'H' or 'S')\").upper()\n",
    "        return move"
   ]
  },
  {
   "cell_type": "code",
   "execution_count": 112,
   "metadata": {
    "collapsed": false
   },
   "outputs": [],
   "source": [
    "class Table(object):\n",
    "    \n",
    "    def __init__(self, deal_number = 1):\n",
    "        self.deal_number = deal_number\n",
    "    \n",
    "    def print_table(self, deal_number, dealer_hand, dealer_hand_score, player_name, \n",
    "                    player_hand, player_hand_score):\n",
    "        clear_output()\n",
    "        time.sleep(2)\n",
    "        hand_size = {'player':len(player_hand['faces']),'dealer':len(dealer_hand['faces'])}\n",
    "        hand_scores = {'player':player_hand_score[3], 'dealer':dealer_hand_score[3]}\n",
    "        if deal_number == 1:\n",
    "            hand_scores['dealer'] = ''\n",
    "        dealer = 'Dealer'\n",
    "        \n",
    "        print(dealer.center(40, ' ') + \"|\" + player_name.center(40, ' '))\n",
    "        print(\"-\"*81)\n",
    "        print(hand_scores['dealer'].center(40, ' ') + \"|\" + hand_scores['player'].center(40, ' '))\n",
    "        print(\"-\"*81)\n",
    "        for i in range(max(hand_size.values())):\n",
    "            if i < hand_size['dealer']:\n",
    "                if deal_number == 1 and i == 0:\n",
    "                    dealer_card = '[Card]'\n",
    "                else:\n",
    "                    dealer_card = dealer_hand['faces'][i]\n",
    "            else:\n",
    "                dealer_card = ''\n",
    "            if i < hand_size['player']:\n",
    "                player_card = player_hand['faces'][i]\n",
    "            else:\n",
    "                player_card = ''\n",
    "            print(dealer_card.center(40, ' ') + \"|\" + player_card.center(40, ' '))\n",
    "        \n",
    "    def play_again(self):\n",
    "        return input('Do you want to play again? Enter Yes or No: ').lower().startswith('y')"
   ]
  },
  {
   "cell_type": "code",
   "execution_count": 121,
   "metadata": {
    "collapsed": false
   },
   "outputs": [
    {
     "name": "stdout",
     "output_type": "stream",
     "text": [
      "                 Dealer                 |                 Steve                  \n",
      "---------------------------------------------------------------------------------\n",
      "                  [18]                  |                 Bust!                  \n",
      "---------------------------------------------------------------------------------\n",
      "             9 of diamonds              |             5 of diamonds              \n",
      "              9 of hearts               |              7 of hearts               \n",
      "                                        |            Jack of diamonds            \n"
     ]
    }
   ],
   "source": [
    "deck = Deck.fresh_deck()\n",
    "player_title = input('What do you want your player to be named? ')\n",
    "player_name = player_title\n",
    "player_name = Player()\n",
    "\n",
    "player_name.player_money()\n",
    "\n",
    "player_name.money\n",
    "\n",
    "player_name.player_bet(player_name.money)\n",
    "\n",
    "player_name.bet\n",
    "\n",
    "# player_name.hit_stay()\n",
    "\n",
    "# player_name.money = 200\n",
    "# player_name.bet = 40\n",
    "# print(player_name.bet)\n",
    "# print(player_name.money)\n",
    "\n",
    "# player_name.money += 1.5 * player_name.bet\n",
    "# print(int(player_name.money))\n",
    "\n",
    "player_name.hand_update(*Deck.deal_card(deck))\n",
    "player_name.hand_update(*Deck.deal_card(deck))\n",
    "# print(str(player_title) + \"'s hand:\")\n",
    "# print(player_name.hand['faces'])\n",
    "# print(player_name.hand_score(player_name.hand['values'])[3])\n",
    "# # #time.sleep(2)\n",
    "# # clear_output()\n",
    "\n",
    "Dealer = Player()\n",
    "Dealer.hand_update(*Deck.deal_card(deck))\n",
    "Dealer.hand_update(*Deck.deal_card(deck))\n",
    "\n",
    "# #Dealer.hand_update(*Deck.deal_card(deck))\n",
    "# print(\"Dealer's hand:\")\n",
    "# print(Dealer.hand['faces'])\n",
    "# print(Dealer.hand_score(Dealer.hand['values']))\n",
    "\n",
    "\n",
    "# print(str(player_title) + \"'s hand:\")\n",
    "# print(player_name.hand['faces'])\n",
    "# print(player_name.hand_score(player_name.hand['values']))\n",
    "# print(len(player_name.hand['faces']))\n",
    "\n",
    "# GAME PLAY TEST\n",
    "table = Table()\n",
    "table.print_table(1,Dealer.hand,Dealer.hand_score(Dealer.hand['values']),player_title,player_name.hand,player_name.hand_score(player_name.hand['values']))\n",
    "#time.sleep(0.05)\n",
    "HS = input('Hit or Stay? type H or S: ')\n",
    "if HS == 'H':\n",
    "    player_name.hand_update(*Deck.deal_card(deck))\n",
    "    table.print_table(2,Dealer.hand,Dealer.hand_score(Dealer.hand['values']),player_title,player_name.hand,player_name.hand_score(player_name.hand['values']))\n",
    "if HS == 'S':\n",
    "    if all(i < 17 for i in Dealer.hand_score(Dealer.hand['values'])[2]) and Dealer.hand_score(Dealer.hand['values'])[2] != 'Bust!' or 'Blackjack!':\n",
    "        Dealer.hand_update(*Deck.deal_card(deck))\n",
    "    table.print_table(2,Dealer.hand,Dealer.hand_score(Dealer.hand['values']),player_title,player_name.hand,player_name.hand_score(player_name.hand['values']))"
   ]
  },
  {
   "cell_type": "code",
   "execution_count": 105,
   "metadata": {
    "collapsed": false
   },
   "outputs": [
    {
     "data": {
      "text/plain": [
       "1234"
      ]
     },
     "execution_count": 105,
     "metadata": {},
     "output_type": "execute_result"
    }
   ],
   "source": [
    "player_name.money"
   ]
  },
  {
   "cell_type": "code",
   "execution_count": 155,
   "metadata": {
    "collapsed": false
   },
   "outputs": [
    {
     "name": "stdout",
     "output_type": "stream",
     "text": [
      "[19]\n"
     ]
    },
    {
     "data": {
      "text/plain": [
       "False"
      ]
     },
     "execution_count": 155,
     "metadata": {},
     "output_type": "execute_result"
    }
   ],
   "source": [
    "print(Dealer.hand_score(Dealer.hand['values'])[2])\n",
    "all(i < 17 for i in Dealer.hand_score(Dealer.hand['values'])[2])\n"
   ]
  },
  {
   "cell_type": "code",
   "execution_count": 85,
   "metadata": {
    "collapsed": false
   },
   "outputs": [
    {
     "name": "stdout",
     "output_type": "stream",
     "text": [
      "Hit or Stay? (type 'H' or 'S')H\n"
     ]
    }
   ],
   "source": [
    "def hit_stay():\n",
    "    move = ''\n",
    "    while not (move == 'H' or move == 'S'):\n",
    "        move = input(\"Hit or Stay? (type 'H' or 'S')\").upper()\n",
    "    return move\n",
    "move = hit_stay()"
   ]
  },
  {
   "cell_type": "code",
   "execution_count": 98,
   "metadata": {
    "collapsed": false
   },
   "outputs": [
    {
     "data": {
      "text/plain": [
       "4"
      ]
     },
     "execution_count": 98,
     "metadata": {},
     "output_type": "execute_result"
    }
   ],
   "source": [
    "def player_bet():\n",
    "    bet = False\n",
    "    while bet == False:\n",
    "        bet = input(\"What is your bet? $\")\n",
    "        try:\n",
    "            bet = int(float(bet))\n",
    "            clear_output()\n",
    "        except:\n",
    "            print(\"please enter a value in monitary form!\")\n",
    "            bet = False\n",
    "            \n",
    "    return bet\n",
    "player_bet()"
   ]
  },
  {
   "cell_type": "code",
   "execution_count": 139,
   "metadata": {
    "collapsed": false
   },
   "outputs": [],
   "source": [
    "winner = [1,2]"
   ]
  },
  {
   "cell_type": "code",
   "execution_count": 140,
   "metadata": {
    "collapsed": false
   },
   "outputs": [
    {
     "data": {
      "text/plain": [
       "2"
      ]
     },
     "execution_count": 140,
     "metadata": {},
     "output_type": "execute_result"
    }
   ],
   "source": [
    "max(winner)"
   ]
  },
  {
   "cell_type": "code",
   "execution_count": null,
   "metadata": {
    "collapsed": true
   },
   "outputs": [],
   "source": []
  },
  {
   "cell_type": "code",
   "execution_count": null,
   "metadata": {
    "collapsed": true
   },
   "outputs": [],
   "source": []
  }
 ],
 "metadata": {
  "anaconda-cloud": {},
  "kernelspec": {
   "display_name": "Python [default]",
   "language": "python",
   "name": "python3"
  },
  "language_info": {
   "codemirror_mode": {
    "name": "ipython",
    "version": 3
   },
   "file_extension": ".py",
   "mimetype": "text/x-python",
   "name": "python",
   "nbconvert_exporter": "python",
   "pygments_lexer": "ipython3",
   "version": "3.5.2"
  }
 },
 "nbformat": 4,
 "nbformat_minor": 1
}
